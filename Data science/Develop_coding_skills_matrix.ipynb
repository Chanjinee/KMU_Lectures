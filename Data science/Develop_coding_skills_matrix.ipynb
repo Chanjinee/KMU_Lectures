{
 "cells": [
  {
   "cell_type": "code",
   "execution_count": 1,
   "id": "f5e427b1",
   "metadata": {},
   "outputs": [],
   "source": [
    "class Matrix:\n",
    "    def __init__(self, List_of_List):\n",
    "        self.matrix = List_of_List\n",
    "        \n",
    "    def __repr__(self):\n",
    "        return f'Matrix({self.matrix})'\n",
    "    \n",
    "    def __add__(self, other):\n",
    "        assert len(self.matrix) == len(other.matrix) #두 matrix의 길이가 다르면 assertion error\n",
    "        \n",
    "        for i in range(len(self.matrix)):\n",
    "            assert len(self.matrix[i]) == len(other.matrix[i]) #행간 길이 비교\n",
    "            \n",
    "        return Matrix([[a+b for a,b in zip(self.matrix[i],other.matrix[i])] for i in range(len(self.matrix))])\n",
    "        \n",
    "    def __sub__(self, other):\n",
    "        assert len(self.matrix) == len(other.matrix)\n",
    "        \n",
    "        for i in range(len(self.matrix)):\n",
    "            assert len(self.matrix[i]) == len(other.matrix[i]) \n",
    "        \n",
    "        return Matrix([[a-b for a,b in zip(self.matrix[i],other.matrix[i])] for i in range(len(self.matrix))])\n",
    "    \n",
    "    def __mul__(self, other):\n",
    "        if type(other) == Matrix: #other가 Matrix인 경우 \n",
    "            for i in range(len(self.matrix)):\n",
    "                assert len(self.matrix) == len(other.matrix[i]) #곱셈 불가능인 경우 assertion error\n",
    "            return Matrix([[sum(a*b for a, b in zip(self_row,other_col)) for other_col in zip(*other.matrix)] for self_row in self.matrix])\n",
    "        \n",
    "        else: #other가 Matrix 아닌경우\n",
    "            return Matrix([[a*other for a in self.matrix[i]] for i in range(len(self.matrix))])\n",
    "\n",
    "    def __rmul__(self, other):\n",
    "        return Matrix([[a*other for a in self.matrix[i]] for i in range(len(self.matrix))])"
   ]
  },
  {
   "cell_type": "code",
   "execution_count": 3,
   "id": "e4130d96",
   "metadata": {},
   "outputs": [
    {
     "name": "stdout",
     "output_type": "stream",
     "text": [
      "Matrix([[1, 2, 3], [4, 5, 6]])\n"
     ]
    }
   ],
   "source": [
    "#print 함수를 사용하여 Matrix를 출력할 수 있습니다.\n",
    "a = Matrix([[1,2,3],[4,5,6]])\n",
    "print(a)"
   ]
  },
  {
   "cell_type": "code",
   "execution_count": 4,
   "id": "f8a25af0",
   "metadata": {},
   "outputs": [
    {
     "name": "stdout",
     "output_type": "stream",
     "text": [
      "Matrix([[3, 4, 5], [7, 8, 9]])\n"
     ]
    }
   ],
   "source": [
    "#크기가 같은 두 Matrix를 더하기(+) 연산자를 이용하여 더할 수 있습니다. 크기가 다를 경우 assertion error가 발생합니다.\n",
    "a = Matrix([[1,2,3],[4,5,6]])\n",
    "b = Matrix([[2,2,2],[3,3,3]])\n",
    "\n",
    "print(a + b)"
   ]
  },
  {
   "cell_type": "code",
   "execution_count": 6,
   "id": "a33ea8c9",
   "metadata": {},
   "outputs": [
    {
     "name": "stdout",
     "output_type": "stream",
     "text": [
      "Matrix([[-1, 0, 1], [1, 2, 3]])\n"
     ]
    }
   ],
   "source": [
    "#크기가 같은 두 Matrix를 빼기(-) 연산자를 이용하여 뺄 수 있습니다. 크기가 다를 경우 assertion error가 발생합니다.\n",
    "a = Matrix([[1,2,3],[4,5,6]])\n",
    "b = Matrix([[2,2,2],[3,3,3]])\n",
    "\n",
    "print(a - b)"
   ]
  },
  {
   "cell_type": "code",
   "execution_count": 8,
   "id": "59adb114",
   "metadata": {},
   "outputs": [
    {
     "name": "stdout",
     "output_type": "stream",
     "text": [
      "Matrix([[3, 6, 9], [12, 15, 18]])\n",
      "Matrix([[4, 8, 12], [16, 20, 24]])\n"
     ]
    }
   ],
   "source": [
    "#Matrix와 스칼라 값을 별표(*) 연산자를 이용하여 곱할 수 있습니다. (힌트: a * 3과 같은 연산은 __mul__을 사용해서 구현 가능, 3 * a과 같이 스칼라 값이 앞에 있는 연산은 __rmul__을 사용하여 구현 가능)\n",
    "a = Matrix([[1,2,3],[4,5,6]])\n",
    "\n",
    "print(a * 3)\n",
    "print(4 * a)"
   ]
  },
  {
   "cell_type": "code",
   "execution_count": 10,
   "id": "d39017b8",
   "metadata": {},
   "outputs": [
    {
     "name": "stdout",
     "output_type": "stream",
     "text": [
      "Matrix([[22, 28], [49, 64]])\n"
     ]
    }
   ],
   "source": [
    "#두 Matrix를 별표(*) 연산자를 이용하여 곱할 수 있습니다. 곱셈이 불가능한 경우 assertion error가 발생합니다.\n",
    "a = Matrix([[1,2,3],[4,5,6]])\n",
    "b = Matrix([[1,2],[3,4],[5,6]])\n",
    "\n",
    "print(a * b)"
   ]
  }
 ],
 "metadata": {
  "kernelspec": {
   "display_name": "Python 3",
   "language": "python",
   "name": "python3"
  },
  "language_info": {
   "codemirror_mode": {
    "name": "ipython",
    "version": 3
   },
   "file_extension": ".py",
   "mimetype": "text/x-python",
   "name": "python",
   "nbconvert_exporter": "python",
   "pygments_lexer": "ipython3",
   "version": "3.8.8"
  }
 },
 "nbformat": 4,
 "nbformat_minor": 5
}
