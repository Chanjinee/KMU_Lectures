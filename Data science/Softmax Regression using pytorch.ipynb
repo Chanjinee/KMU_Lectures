{
 "cells": [
  {
   "cell_type": "code",
   "execution_count": 19,
   "id": "5f71ff9d",
   "metadata": {
    "id": "5f71ff9d"
   },
   "outputs": [],
   "source": [
    "import torch"
   ]
  },
  {
   "cell_type": "code",
   "execution_count": 20,
   "id": "4f821978",
   "metadata": {
    "id": "4f821978"
   },
   "outputs": [],
   "source": [
    "#학습데이터 생성\n",
    "x_train = torch.FloatTensor([[1,2,1,1],[2,1,3,2],[3,1,3,4],[4,1,5,5],[1,7,5,5],\n",
    "                             [1,2,5,6],[1,6,6,6],[1,7,7,7]])\n",
    "y_train = torch.FloatTensor([[0,0,1],[0,0,1],[0,0,1],[0,1,0],[0,1,0],[0,1,0],\n",
    "                             [1,0,0],[1,0,0]])\n",
    "\n",
    "#W, b 초기화 / learning late 설정\n",
    "W = torch.zeros(4,3,requires_grad=True)\n",
    "b = torch.zeros(1,3,requires_grad=True)\n",
    "optimizer = torch.optim.Adam([W,b],lr = 0.1)"
   ]
  },
  {
   "cell_type": "code",
   "execution_count": 21,
   "id": "a6eb3e07",
   "metadata": {
    "colab": {
     "base_uri": "https://localhost:8080/"
    },
    "id": "a6eb3e07",
    "outputId": "d08ade84-d9ed-483d-a31b-4b15ee5774a4"
   },
   "outputs": [
    {
     "name": "stdout",
     "output_type": "stream",
     "text": [
      "epoch: 0, cost: 1.098612\n",
      "epoch: 100, cost: 0.279874\n",
      "epoch: 200, cost: 0.162209\n",
      "epoch: 300, cost: 0.105262\n",
      "epoch: 400, cost: 0.074083\n",
      "epoch: 500, cost: 0.055093\n",
      "epoch: 600, cost: 0.042634\n",
      "epoch: 700, cost: 0.034003\n",
      "epoch: 800, cost: 0.027768\n",
      "epoch: 900, cost: 0.023111\n",
      "epoch: 1000, cost: 0.019535\n",
      "epoch: 1100, cost: 0.016727\n",
      "epoch: 1200, cost: 0.014479\n",
      "epoch: 1300, cost: 0.012650\n",
      "epoch: 1400, cost: 0.011140\n",
      "epoch: 1500, cost: 0.009879\n",
      "epoch: 1600, cost: 0.008813\n",
      "epoch: 1700, cost: 0.007905\n",
      "epoch: 1800, cost: 0.007124\n",
      "epoch: 1900, cost: 0.006447\n",
      "epoch: 2000, cost: 0.005856\n",
      "epoch: 2100, cost: 0.005338\n",
      "epoch: 2200, cost: 0.004881\n",
      "epoch: 2300, cost: 0.004475\n",
      "epoch: 2400, cost: 0.004113\n",
      "epoch: 2500, cost: 0.003789\n",
      "epoch: 2600, cost: 0.003499\n",
      "epoch: 2700, cost: 0.003236\n",
      "epoch: 2800, cost: 0.002999\n",
      "epoch: 2900, cost: 0.002784\n",
      "epoch: 3000, cost: 0.002588\n"
     ]
    }
   ],
   "source": [
    "for epoch in range(3001): #반복횟수 설정\n",
    "    #Hypothesis, cost 설정\n",
    "    hypothesis = torch.softmax(torch.mm(x_train, W)+b, dim=1)\n",
    "    cost = -torch.mean(torch.sum(y_train*torch.log(hypothesis), dim=1))\n",
    "    \n",
    "    #Optimizer를 이용한 경사 계산 및 W, b 업데이트\n",
    "    optimizer.zero_grad()\n",
    "    cost.backward()\n",
    "    optimizer.step()\n",
    "    #학습이 잘 되는지 확인하기위한 내용 출력\n",
    "    if epoch % 100 == 0:\n",
    "        print( 'epoch: {}, cost: {:.6f}'.format(epoch, cost.item()))"
   ]
  },
  {
   "cell_type": "code",
   "execution_count": 22,
   "id": "e9c21971",
   "metadata": {
    "colab": {
     "base_uri": "https://localhost:8080/"
    },
    "id": "e9c21971",
    "outputId": "431fc934-8d8c-42a1-c6ec-49b6ebaf2675"
   },
   "outputs": [
    {
     "name": "stdout",
     "output_type": "stream",
     "text": [
      "tensor([[1.0000e+00, 5.5165e-19, 7.0151e-38],\n",
      "        [1.4800e-02, 7.4294e-01, 2.4226e-01],\n",
      "        [1.2256e-33, 9.0835e-12, 1.0000e+00]])\n",
      "tensor([0, 1, 2])\n"
     ]
    }
   ],
   "source": [
    "#x 가 [1,11,10,9], [1,3,4,3], [1,1,0,1] 일 때, y값 확인\n",
    "W.requires_grad_(False)\n",
    "b.requires_grad_(False)\n",
    "\n",
    "x_test = torch.FloatTensor([[1,11,10,9], [1,3,4,3], [1,1,0,1]])\n",
    "test_all = torch.softmax(torch.mm(x_test, W)+b, dim=1)\n",
    "print(test_all)\n",
    "print(torch.argmax(test_all, dim=1))"
   ]
  },
  {
   "cell_type": "markdown",
   "id": "5yCjDmF7ZScG",
   "metadata": {
    "id": "5yCjDmF7ZScG"
   },
   "source": [
    "### 조금더깔끔하게Softmax"
   ]
  },
  {
   "cell_type": "code",
   "execution_count": 23,
   "id": "A-xt8hVZdJ-E",
   "metadata": {
    "id": "A-xt8hVZdJ-E"
   },
   "outputs": [],
   "source": [
    "import torch.nn.functional as F\n",
    "import torch.nn as nn"
   ]
  },
  {
   "cell_type": "code",
   "execution_count": 24,
   "id": "fYtqgwLXc3xd",
   "metadata": {
    "id": "fYtqgwLXc3xd"
   },
   "outputs": [],
   "source": [
    "#학습데이터 생성\n",
    "x_train = torch.FloatTensor([[1,2,1,1],[2,1,3,2],[3,1,3,4],[4,1,5,5],[1,7,5,5],\n",
    "                             [1,2,5,6],[1,6,6,6],[1,7,7,7]])\n",
    "y_train = torch.LongTensor([2,2,2,1,1,1,0,0])\n",
    "\n",
    "#어차피 맨날 쓰는 W와 b. nn.Linear로 대체하자!\n",
    "model = nn.Linear(4,3)\n",
    "optimizer = torch.optim.Adam(model.parameters(),lr=1)"
   ]
  },
  {
   "cell_type": "code",
   "execution_count": 25,
   "id": "tzWewf-jc3zz",
   "metadata": {
    "colab": {
     "base_uri": "https://localhost:8080/"
    },
    "id": "tzWewf-jc3zz",
    "outputId": "9a09f459-030f-4985-d9bb-6ca7c2da654b"
   },
   "outputs": [
    {
     "name": "stdout",
     "output_type": "stream",
     "text": [
      "epoch: 0, cost: 1.720316\n",
      "epoch: 100, cost: 0.093263\n",
      "epoch: 200, cost: 0.051158\n",
      "epoch: 300, cost: 0.031883\n",
      "epoch: 400, cost: 0.021796\n",
      "epoch: 500, cost: 0.015901\n",
      "epoch: 600, cost: 0.012155\n",
      "epoch: 700, cost: 0.009618\n",
      "epoch: 800, cost: 0.007814\n",
      "epoch: 900, cost: 0.006481\n",
      "epoch: 1000, cost: 0.005467\n",
      "epoch: 1100, cost: 0.004675\n",
      "epoch: 1200, cost: 0.004043\n",
      "epoch: 1300, cost: 0.003530\n",
      "epoch: 1400, cost: 0.003108\n",
      "epoch: 1500, cost: 0.002756\n",
      "epoch: 1600, cost: 0.002459\n",
      "epoch: 1700, cost: 0.002206\n",
      "epoch: 1800, cost: 0.001988\n",
      "epoch: 1900, cost: 0.001800\n",
      "epoch: 2000, cost: 0.001635\n",
      "epoch: 2100, cost: 0.001491\n",
      "epoch: 2200, cost: 0.001363\n",
      "epoch: 2300, cost: 0.001250\n",
      "epoch: 2400, cost: 0.001150\n",
      "epoch: 2500, cost: 0.001059\n",
      "epoch: 2600, cost: 0.000978\n",
      "epoch: 2700, cost: 0.000905\n",
      "epoch: 2800, cost: 0.000839\n",
      "epoch: 2900, cost: 0.000779\n",
      "epoch: 3000, cost: 0.000724\n"
     ]
    }
   ],
   "source": [
    "for epoch in range(3001): #반복횟수 설정\n",
    "    #Hypothesis, cost 설정\n",
    "    z = model(x_train)\n",
    "    cost = F.cross_entropy(z, y_train)\n",
    "    \n",
    "    #Optimizer를 이용한 경사 계산 및 W, b 업데이트\n",
    "    optimizer.zero_grad()\n",
    "    cost.backward()\n",
    "    optimizer.step()\n",
    "    #학습이 잘 되는지 확인하기위한 내용 출력\n",
    "    if epoch % 100 == 0:\n",
    "        print( 'epoch: {}, cost: {:.6f}'.format(epoch, cost.item()))"
   ]
  },
  {
   "cell_type": "markdown",
   "id": "l6AoJ91nZzaZ",
   "metadata": {
    "id": "l6AoJ91nZzaZ"
   },
   "source": [
    "### Softmax Regression with sklearn"
   ]
  },
  {
   "cell_type": "code",
   "execution_count": 26,
   "id": "lyWN4lmQZXCW",
   "metadata": {
    "id": "lyWN4lmQZXCW"
   },
   "outputs": [],
   "source": [
    "import numpy as np\n",
    "from sklearn.linear_model import LogisticRegression"
   ]
  },
  {
   "cell_type": "code",
   "execution_count": 15,
   "id": "0FTpb-nKZ2qp",
   "metadata": {
    "id": "0FTpb-nKZ2qp"
   },
   "outputs": [],
   "source": [
    "x_train = np.array([ [1,2,1,1], [2,1,3,2], [3,1,3,4], [4,1,5,5], [1,7,5,5],\n",
    " [1,2,5,6], [1,6,6,6], [1,7,7,7] ])\n",
    "\n",
    "# y에 0, 1, 2 등 둘 이상의 class가 존재 => softmax regression\n",
    "y_train = np.array([ 2, 2, 2, 1, 1, 1, 0, 0 ])"
   ]
  },
  {
   "cell_type": "code",
   "execution_count": 27,
   "id": "3YFFY3eqaBsO",
   "metadata": {
    "colab": {
     "base_uri": "https://localhost:8080/"
    },
    "id": "3YFFY3eqaBsO",
    "outputId": "72bbb30f-8efc-446d-d5f3-12b74d665e02"
   },
   "outputs": [
    {
     "name": "stdout",
     "output_type": "stream",
     "text": [
      "[0 2 2]\n"
     ]
    }
   ],
   "source": [
    "logistic = LogisticRegression() # 모델 생성\n",
    "logistic.fit(x_train, y_train) # 학습\n",
    "\n",
    "pred = logistic.predict([[1,11,10,9], [1,3,4,3], [1,1,0,1]]) # test case (값 예측)\n",
    "print(pred) # 출력"
   ]
  }
 ],
 "metadata": {
  "colab": {
   "name": "20172834_백찬진_과제3.ipynb",
   "provenance": []
  },
  "kernelspec": {
   "display_name": "DL",
   "language": "python",
   "name": "dl"
  },
  "language_info": {
   "codemirror_mode": {
    "name": "ipython",
    "version": 3
   },
   "file_extension": ".py",
   "mimetype": "text/x-python",
   "name": "python",
   "nbconvert_exporter": "python",
   "pygments_lexer": "ipython3",
   "version": "3.8.11"
  }
 },
 "nbformat": 4,
 "nbformat_minor": 5
}
