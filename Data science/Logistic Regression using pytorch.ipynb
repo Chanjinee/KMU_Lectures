{
 "cells": [
  {
   "cell_type": "code",
   "execution_count": 1,
   "id": "5f71ff9d",
   "metadata": {
    "id": "5f71ff9d"
   },
   "outputs": [],
   "source": [
    "import torch"
   ]
  },
  {
   "cell_type": "code",
   "execution_count": 2,
   "id": "4f821978",
   "metadata": {
    "id": "4f821978"
   },
   "outputs": [],
   "source": [
    "#학습데이터 생성\n",
    "x_train = torch.FloatTensor([[1],[2],[3],[4],[5],[2.5],[3.5],[0],[3.1],[2.7],[2.8],[2.9]])\n",
    "y_train = torch.FloatTensor([[1],[1],[1],[0],[0],[0],[0],[1],[0],[1],[1],[1]])\n",
    "\n",
    "#W, b 초기화 / learning late 설정\n",
    "W = torch.zeros(1,1)\n",
    "b = torch.zeros(1,1)\n",
    "lr = 1.0"
   ]
  },
  {
   "cell_type": "code",
   "execution_count": 3,
   "id": "332451a1",
   "metadata": {},
   "outputs": [
    {
     "data": {
      "text/plain": [
       "torch.Size([12, 1])"
      ]
     },
     "execution_count": 3,
     "metadata": {},
     "output_type": "execute_result"
    }
   ],
   "source": [
    "x_train.size()"
   ]
  },
  {
   "cell_type": "code",
   "execution_count": 3,
   "id": "a6eb3e07",
   "metadata": {
    "colab": {
     "base_uri": "https://localhost:8080/"
    },
    "id": "a6eb3e07",
    "outputId": "80d8fb86-68fb-41b0-b7cb-b31b86aecfd9"
   },
   "outputs": [
    {
     "name": "stdout",
     "output_type": "stream",
     "text": [
      "epoch: 0, cost: 0.693147, W: -0.154167, b: 0.083333\n",
      "epoch: 100, cost: 0.420221, W: -1.451281, b: 4.406925\n",
      "epoch: 200, cost: 0.398721, W: -1.898433, b: 5.773750\n",
      "epoch: 300, cost: 0.390820, W: -2.174322, b: 6.609553\n",
      "epoch: 400, cost: 0.387009, W: -2.367329, b: 7.191599\n",
      "epoch: 500, cost: 0.384924, W: -2.510626, b: 7.622530\n",
      "epoch: 600, cost: 0.383699, W: -2.620779, b: 7.953164\n",
      "epoch: 700, cost: 0.382944, W: -2.707397, b: 8.212804\n",
      "epoch: 800, cost: 0.382463, W: -2.776597, b: 8.420023\n",
      "epoch: 900, cost: 0.382149, W: -2.832521, b: 8.587363\n",
      "epoch: 1000, cost: 0.381941, W: -2.878112, b: 8.723699\n",
      "epoch: 1100, cost: 0.381801, W: -2.915530, b: 8.835541\n",
      "epoch: 1200, cost: 0.381706, W: -2.946401, b: 8.927779\n",
      "epoch: 1300, cost: 0.381641, W: -2.971979, b: 9.004180\n",
      "epoch: 1400, cost: 0.381596, W: -2.993242, b: 9.067673\n",
      "epoch: 1500, cost: 0.381565, W: -3.010968, b: 9.120598\n",
      "epoch: 1600, cost: 0.381543, W: -3.025776, b: 9.164800\n",
      "epoch: 1700, cost: 0.381528, W: -3.038172, b: 9.201797\n",
      "epoch: 1800, cost: 0.381517, W: -3.048561, b: 9.232802\n",
      "epoch: 1900, cost: 0.381509, W: -3.057279, b: 9.258815\n",
      "epoch: 2000, cost: 0.381504, W: -3.064605, b: 9.280675\n",
      "epoch: 2100, cost: 0.381500, W: -3.070765, b: 9.299053\n",
      "epoch: 2200, cost: 0.381497, W: -3.075948, b: 9.314517\n",
      "epoch: 2300, cost: 0.381495, W: -3.080314, b: 9.327539\n",
      "epoch: 2400, cost: 0.381494, W: -3.083991, b: 9.338510\n",
      "epoch: 2500, cost: 0.381493, W: -3.087090, b: 9.347754\n",
      "epoch: 2600, cost: 0.381493, W: -3.089704, b: 9.355551\n",
      "epoch: 2700, cost: 0.381492, W: -3.091908, b: 9.362126\n",
      "epoch: 2800, cost: 0.381492, W: -3.093769, b: 9.367676\n",
      "epoch: 2900, cost: 0.381491, W: -3.095338, b: 9.372355\n",
      "epoch: 3000, cost: 0.381491, W: -3.096662, b: 9.376306\n"
     ]
    }
   ],
   "source": [
    "#반복횟수 설정\n",
    "for epoch in range(3001):\n",
    "    W.requires_grad_(True)\n",
    "    b.requires_grad_(True)\n",
    "    #Hypothesis, cost 설정\n",
    "    hypothesis = torch.sigmoid(torch.mm(x_train, W) + b)\n",
    "    cost = torch.mean(-y_train*torch.log(hypothesis) \n",
    "                      - (1-y_train)*torch.log(1-hypothesis)\n",
    "                     )\n",
    "    #경사 계산\n",
    "    #W, b 업데이트\n",
    "    cost.backward()\n",
    "    with torch.no_grad() as grd:\n",
    "        W = W - lr*W.grad\n",
    "        b = b - lr*b.grad\n",
    "    #학습이 잘 되는지 확인하기위한 내용 출력\n",
    "    if epoch % 100 == 0:\n",
    "        print( 'epoch: {}, cost: {:.6f}, W: {:.6f}, b: {:.6f}'.format(epoch, cost.item(), W.squeeze(), b.squeeze()))"
   ]
  },
  {
   "cell_type": "code",
   "execution_count": 4,
   "id": "e9c21971",
   "metadata": {
    "colab": {
     "base_uri": "https://localhost:8080/"
    },
    "id": "e9c21971",
    "outputId": "39dd2f20-4beb-4d80-e678-2791e61c304f"
   },
   "outputs": [
    {
     "name": "stdout",
     "output_type": "stream",
     "text": [
      "tensor([[0.],\n",
      "        [1.]])\n"
     ]
    }
   ],
   "source": [
    "#x = [4.5] 혹은 [1.1]일 때, y값 확인\n",
    "x_test = torch.FloatTensor([[4.5],[1.1]])\n",
    "test_result = torch.sigmoid(torch.mm(x_test, W) + b)\n",
    "print(torch.round(test_result))"
   ]
  },
  {
   "cell_type": "markdown",
   "id": "HyY0X7hbZLvl",
   "metadata": {
    "id": "HyY0X7hbZLvl"
   },
   "source": [
    "### 여러가지 optimizer 사용해보기"
   ]
  },
  {
   "cell_type": "code",
   "execution_count": 6,
   "id": "ErjvBnBkZG-p",
   "metadata": {
    "id": "ErjvBnBkZG-p"
   },
   "outputs": [],
   "source": [
    "#W, b 초기화 / learning late 설정\n",
    "W = torch.zeros(1,1)\n",
    "b = torch.zeros(1,1)\n",
    "lr = 1.0"
   ]
  },
  {
   "cell_type": "code",
   "execution_count": 7,
   "id": "c5c278dc",
   "metadata": {
    "colab": {
     "base_uri": "https://localhost:8080/"
    },
    "id": "c5c278dc",
    "outputId": "297a85e0-62b7-4c30-e51f-a339c46c14c2"
   },
   "outputs": [
    {
     "name": "stdout",
     "output_type": "stream",
     "text": [
      "epoch: 0, cost: 0.693147, W: -0.154167, b: 0.083333\n",
      "epoch: 100, cost: 0.420221, W: -1.451281, b: 4.406925\n",
      "epoch: 200, cost: 0.398721, W: -1.898433, b: 5.773750\n",
      "epoch: 300, cost: 0.390820, W: -2.174322, b: 6.609553\n",
      "epoch: 400, cost: 0.387009, W: -2.367329, b: 7.191599\n",
      "epoch: 500, cost: 0.384924, W: -2.510626, b: 7.622530\n",
      "epoch: 600, cost: 0.383699, W: -2.620779, b: 7.953164\n",
      "epoch: 700, cost: 0.382944, W: -2.707397, b: 8.212804\n",
      "epoch: 800, cost: 0.382463, W: -2.776597, b: 8.420023\n",
      "epoch: 900, cost: 0.382149, W: -2.832521, b: 8.587363\n",
      "epoch: 1000, cost: 0.381941, W: -2.878112, b: 8.723699\n",
      "epoch: 1100, cost: 0.381801, W: -2.915530, b: 8.835541\n",
      "epoch: 1200, cost: 0.381706, W: -2.946401, b: 8.927779\n",
      "epoch: 1300, cost: 0.381641, W: -2.971979, b: 9.004180\n",
      "epoch: 1400, cost: 0.381596, W: -2.993242, b: 9.067673\n",
      "epoch: 1500, cost: 0.381565, W: -3.010968, b: 9.120598\n",
      "epoch: 1600, cost: 0.381543, W: -3.025776, b: 9.164800\n",
      "epoch: 1700, cost: 0.381528, W: -3.038172, b: 9.201797\n",
      "epoch: 1800, cost: 0.381517, W: -3.048561, b: 9.232802\n",
      "epoch: 1900, cost: 0.381509, W: -3.057279, b: 9.258815\n",
      "epoch: 2000, cost: 0.381504, W: -3.064605, b: 9.280675\n",
      "epoch: 2100, cost: 0.381500, W: -3.070765, b: 9.299053\n",
      "epoch: 2200, cost: 0.381497, W: -3.075948, b: 9.314517\n",
      "epoch: 2300, cost: 0.381495, W: -3.080314, b: 9.327539\n",
      "epoch: 2400, cost: 0.381494, W: -3.083991, b: 9.338510\n",
      "epoch: 2500, cost: 0.381493, W: -3.087090, b: 9.347754\n",
      "epoch: 2600, cost: 0.381493, W: -3.089704, b: 9.355551\n",
      "epoch: 2700, cost: 0.381492, W: -3.091908, b: 9.362126\n",
      "epoch: 2800, cost: 0.381492, W: -3.093769, b: 9.367676\n",
      "epoch: 2900, cost: 0.381491, W: -3.095338, b: 9.372355\n",
      "epoch: 3000, cost: 0.381491, W: -3.096662, b: 9.376306\n"
     ]
    }
   ],
   "source": [
    "#여러가지 optimizer 사용해보기\n",
    "optimizer = torch.optim.SGD([W,b], lr=1.0)\n",
    "# optimizer = torch.optim.Adam([W,b], lr=1.0)\n",
    "# optimizer = torch.optim.Adadelta([W,b])\n",
    "# optimizer = torch.optim.Adagrad([W,b])\n",
    "# optimizer = torch.optim.RMSprop([W,b])\n",
    "\n",
    "for epoch in range(3001):\n",
    "    W.requires_grad_(True)\n",
    "    b.requires_grad_(True)\n",
    "    #Hypothesis, cost 설정\n",
    "    hypothesis = torch.sigmoid(torch.mm(x_train, W) + b)\n",
    "    cost = torch.mean(-y_train*torch.log(hypothesis) \n",
    "                      - (1-y_train)*torch.log(1-hypothesis)\n",
    "                     )\n",
    "    #다른 optimizer사용\n",
    "    optimizer.zero_grad()\n",
    "    cost.backward()\n",
    "    optimizer.step()\n",
    "    #학습이 잘 되는지 확인하기위한 내용 출력\n",
    "    if epoch % 100 == 0:\n",
    "        print( 'epoch: {}, cost: {:.6f}, W: {:.6f}, b: {:.6f}'.format(epoch, cost.item(), W.squeeze(), b.squeeze()))"
   ]
  },
  {
   "cell_type": "markdown",
   "id": "5yCjDmF7ZScG",
   "metadata": {
    "id": "5yCjDmF7ZScG"
   },
   "source": [
    "### Matplotlib으로 결과 시각화"
   ]
  },
  {
   "cell_type": "code",
   "execution_count": 8,
   "id": "3e37b66f",
   "metadata": {
    "id": "3e37b66f"
   },
   "outputs": [],
   "source": [
    "#Matplotlib으로 결과 시각화\n",
    "import matplotlib.pyplot as plt"
   ]
  },
  {
   "cell_type": "code",
   "execution_count": 12,
   "id": "e7d1e103",
   "metadata": {
    "colab": {
     "base_uri": "https://localhost:8080/",
     "height": 279
    },
    "id": "e7d1e103",
    "outputId": "ed443fcd-4737-4246-f644-3345e98e1ec5"
   },
   "outputs": [
    {
     "data": {
      "image/png": "[encoded data removed]",
      "text/plain": [
       "<Figure size 432x288 with 1 Axes>"
      ]
     },
     "metadata": {
      "needs_background": "light"
     },
     "output_type": "display_data"
    }
   ],
   "source": [
    "W.requires_grad_(False)\n",
    "b.requires_grad_(False)\n",
    "\n",
    "plt.scatter(x_train, y_train)\n",
    "\n",
    "X = torch.linspace(0,5,100).unsqueeze(1)\n",
    "Y = torch.sigmoid(torch.mm(X,W)+b)\n",
    "\n",
    "plt.plot(X,Y)\n",
    "\n",
    "#label 달기\n",
    "plt.ylabel(\"Probability of 1 (Y)\")\n",
    "plt.xlabel(\"Input (X)\")\n",
    "#점과 선의 색 변경하기\n",
    "plt.scatter(x_train, y_train, c=\"black\")\n",
    "plt.plot(X,Y, c=\"#ff0000\")\n",
    "#범례 달기\n",
    "plt.scatter(x_train, y_train, c=\"black\", label=\"Training data\")\n",
    "plt.plot(X,Y, c=\"#ff0000\", label=\"Fitting line\")\n",
    "plt.legend()\n",
    "\n",
    "plt.show()"
   ]
  },
  {
   "cell_type": "markdown",
   "id": "l6AoJ91nZzaZ",
   "metadata": {
    "id": "l6AoJ91nZzaZ"
   },
   "source": [
    "### Logistic Regression with sklearn"
   ]
  },
  {
   "cell_type": "code",
   "execution_count": 14,
   "id": "lyWN4lmQZXCW",
   "metadata": {
    "id": "lyWN4lmQZXCW"
   },
   "outputs": [],
   "source": [
    "from sklearn.linear_model import LogisticRegression"
   ]
  },
  {
   "cell_type": "code",
   "execution_count": 15,
   "id": "0FTpb-nKZ2qp",
   "metadata": {
    "id": "0FTpb-nKZ2qp"
   },
   "outputs": [],
   "source": [
    "x_train = [[1],[2],[3],[4],[5],[2.5],[3.5],[0],[3.1],[2.7],[2.8],[2.9]]\n",
    "y_train = [1,1,1,0,0,0,0,1,0,1,1,1] # 입력 shape이 pytorch에서와 다름에 주의!"
   ]
  },
  {
   "cell_type": "code",
   "execution_count": 16,
   "id": "3YFFY3eqaBsO",
   "metadata": {
    "colab": {
     "base_uri": "https://localhost:8080/"
    },
    "id": "3YFFY3eqaBsO",
    "outputId": "8204abf8-cb0f-4947-aa39-ced316d50da8"
   },
   "outputs": [
    {
     "name": "stdout",
     "output_type": "stream",
     "text": [
      "[[-3.10385806]] [9.39776831]\n"
     ]
    }
   ],
   "source": [
    "model = LogisticRegression(penalty='none') # penalty (or regularization)은 추후 설명\n",
    "model.fit(x_train, y_train)\n",
    "\n",
    "#W와 b에 해당하는 값 출력\n",
    "print(model.coef_, model.intercept_)"
   ]
  },
  {
   "cell_type": "code",
   "execution_count": 17,
   "id": "Pkx2eSrhZ5hd",
   "metadata": {
    "colab": {
     "base_uri": "https://localhost:8080/"
    },
    "id": "Pkx2eSrhZ5hd",
    "outputId": "2ce6ad2a-489e-49fa-e44d-aad9501090b1"
   },
   "outputs": [
    {
     "name": "stdout",
     "output_type": "stream",
     "text": [
      "[0 1]\n"
     ]
    }
   ],
   "source": [
    "# 새로운 x값이 주어질 때 y값 예측해보기\n",
    "x_test = [[4.5],[1.1]]\n",
    "test_result = model.predict(x_test)\n",
    "print(test_result)\n"
   ]
  }
 ],
 "metadata": {
  "colab": {
   "name": "20172834_백찬진_과제2.ipynb",
   "provenance": []
  },
  "kernelspec": {
   "display_name": "DL",
   "language": "python",
   "name": "dl"
  },
  "language_info": {
   "codemirror_mode": {
    "name": "ipython",
    "version": 3
   },
   "file_extension": ".py",
   "mimetype": "text/x-python",
   "name": "python",
   "nbconvert_exporter": "python",
   "pygments_lexer": "ipython3",
   "version": "3.8.11"
  }
 },
 "nbformat": 4,
 "nbformat_minor": 5
}
