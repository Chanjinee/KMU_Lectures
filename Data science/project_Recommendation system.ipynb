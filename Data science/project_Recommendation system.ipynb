{
 "cells": [
  {
   "cell_type": "markdown",
   "id": "338f2040",
   "metadata": {},
   "source": [
    "### 필요모듈 불러오기"
   ]
  },
  {
   "cell_type": "code",
   "execution_count": 1,
   "id": "ce7c5b61",
   "metadata": {},
   "outputs": [],
   "source": [
    "# 데이터 불러오고 압축해제\n",
    "import requests\n",
    "import zipfile\n",
    "\n",
    "# 데이터 전처리\n",
    "import pandas as pd\n",
    "import numpy as np\n",
    "\n",
    "# train_test_split\n",
    "from sklearn.model_selection import train_test_split\n",
    "\n",
    "# 경고 무시 모듈\n",
    "import sys\n",
    "\n",
    "if not sys.warnoptions:\n",
    "    import warnings\n",
    "    warnings.simplefilter(\"ignore\")\n",
    "\n",
    "# task 2\n",
    "import torch\n",
    "import torch.nn.functional as F\n",
    "import matplotlib.pyplot as plt\n",
    "\n",
    "# task 4\n",
    "from soyclustering import SphericalKMeans\n",
    "from scipy.sparse import csr_matrix\n",
    "from sklearn.metrics.pairwise import cosine_similarity\n",
    "\n",
    "# task 5\n",
    "from sklearn.decomposition import PCA"
   ]
  },
  {
   "cell_type": "markdown",
   "id": "e927fe83",
   "metadata": {},
   "source": [
    "### Task 1. 데이터 준비하기"
   ]
  },
  {
   "cell_type": "markdown",
   "id": "d4814a68",
   "metadata": {},
   "source": [
    "- Task 1-1. 파일을 다운로드 받고 (requests, zipfile 사용), ratings.csv 파일을 읽어서 80%\n",
    "20% 비율의 train, test 데이터로 나누기\n"
   ]
  },
  {
   "cell_type": "code",
   "execution_count": 2,
   "id": "2e1af84e",
   "metadata": {},
   "outputs": [],
   "source": [
    "# request를 사용하여 url을 통해 파일을 다운받는 함수 생성\n",
    "def download(url, file_name = None):\n",
    "    if not file_name:\n",
    "        file_name = url.split('/')[-1] # url에 있는 파일 이름으로 다운로드 ( ml-latest.zip ) \n",
    "\n",
    "    with open(file_name, \"wb\") as file:   \n",
    "            response = requests.get(url)               \n",
    "            file.write(response.content)      \n",
    "\n",
    "if __name__ == '__main__':\n",
    "    url = \"https://files.grouplens.org/datasets/movielens/ml-latest-small.zip\"\n",
    "    download(url)"
   ]
  },
  {
   "cell_type": "code",
   "execution_count": 3,
   "id": "b6de01e6",
   "metadata": {},
   "outputs": [],
   "source": [
    "# zipfile을 사용하여 압축 해제\n",
    "output_unzip = zipfile.ZipFile(\"ml-latest-small.zip\", \"r\")  # \"r\": read 모드\n",
    "output_unzip.extractall()\n",
    "output_unzip.close()"
   ]
  },
  {
   "cell_type": "code",
   "execution_count": 4,
   "id": "6b739ce2",
   "metadata": {},
   "outputs": [],
   "source": [
    "# 데이터가 저장된 경로 설정\n",
    "data_path = './ml-latest-small/'\n",
    "\n",
    "# 데이터 불러오기\n",
    "ratings = pd.read_csv(data_path+'ratings.csv')"
   ]
  },
  {
   "cell_type": "code",
   "execution_count": 5,
   "id": "8eff2a7b",
   "metadata": {},
   "outputs": [],
   "source": [
    "# train과 test를 8:2의 비율로 나누기\n",
    "train, test = train_test_split(ratings, test_size=0.2, shuffle=True, random_state=0)"
   ]
  },
  {
   "cell_type": "markdown",
   "id": "0439d7fc",
   "metadata": {},
   "source": [
    "- Task 1-2. movies.csv 파일을 읽고, 장르를 집합으로 변환하기"
   ]
  },
  {
   "cell_type": "code",
   "execution_count": 6,
   "id": "7fc0d907",
   "metadata": {},
   "outputs": [],
   "source": [
    "# 데이터 불러오기\n",
    "movies = pd.read_csv(data_path+'movies.csv')\n",
    "# 장르를 집합으로 변경\n",
    "movies['genres'] = movies['genres'].apply(lambda x: set(x.split('|')))"
   ]
  },
  {
   "cell_type": "markdown",
   "id": "41d692cb",
   "metadata": {},
   "source": [
    "- Task 1-3. tags.csv 파일을 읽고, tag들을 모두 소문자로 변환 후, 영화별로 tag들을 묶어서\n",
    "집합으로 변환하기 "
   ]
  },
  {
   "cell_type": "code",
   "execution_count": 7,
   "id": "77a5c648",
   "metadata": {},
   "outputs": [],
   "source": [
    "# 데이터 불러오기\n",
    "tags = pd.read_csv(data_path+'tags.csv')"
   ]
  },
  {
   "cell_type": "code",
   "execution_count": 8,
   "id": "f5b03e44",
   "metadata": {},
   "outputs": [],
   "source": [
    "# 소문자로 변경 ( tag가 float인 tag가 존재하기 때문에 이런경우는 그냥 리턴 )\n",
    "tags['tag'] = tags['tag'].apply(lambda x: x.lower() if type(x) == str else x)"
   ]
  },
  {
   "cell_type": "code",
   "execution_count": 9,
   "id": "d2f02fbc",
   "metadata": {},
   "outputs": [
    {
     "data": {
      "text/html": [
       "<div>\n",
       "<style scoped>\n",
       "    .dataframe tbody tr th:only-of-type {\n",
       "        vertical-align: middle;\n",
       "    }\n",
       "\n",
       "    .dataframe tbody tr th {\n",
       "        vertical-align: top;\n",
       "    }\n",
       "\n",
       "    .dataframe thead th {\n",
       "        text-align: right;\n",
       "    }\n",
       "</style>\n",
       "<table border=\"1\" class=\"dataframe\">\n",
       "  <thead>\n",
       "    <tr style=\"text-align: right;\">\n",
       "      <th></th>\n",
       "      <th>tag</th>\n",
       "    </tr>\n",
       "    <tr>\n",
       "      <th>movieId</th>\n",
       "      <th></th>\n",
       "    </tr>\n",
       "  </thead>\n",
       "  <tbody>\n",
       "    <tr>\n",
       "      <th>1</th>\n",
       "      <td>{fun, pixar}</td>\n",
       "    </tr>\n",
       "    <tr>\n",
       "      <th>2</th>\n",
       "      <td>{game, magic board game, robin williams, fantasy}</td>\n",
       "    </tr>\n",
       "    <tr>\n",
       "      <th>3</th>\n",
       "      <td>{old, moldy}</td>\n",
       "    </tr>\n",
       "    <tr>\n",
       "      <th>5</th>\n",
       "      <td>{pregnancy, remake}</td>\n",
       "    </tr>\n",
       "    <tr>\n",
       "      <th>7</th>\n",
       "      <td>{remake}</td>\n",
       "    </tr>\n",
       "    <tr>\n",
       "      <th>...</th>\n",
       "      <td>...</td>\n",
       "    </tr>\n",
       "    <tr>\n",
       "      <th>183611</th>\n",
       "      <td>{rachel mcadams, funny, comedy}</td>\n",
       "    </tr>\n",
       "    <tr>\n",
       "      <th>184471</th>\n",
       "      <td>{adventure, alicia vikander, video game adapta...</td>\n",
       "    </tr>\n",
       "    <tr>\n",
       "      <th>187593</th>\n",
       "      <td>{ryan reynolds, sarcasm, josh brolin}</td>\n",
       "    </tr>\n",
       "    <tr>\n",
       "      <th>187595</th>\n",
       "      <td>{star wars, emilia clarke}</td>\n",
       "    </tr>\n",
       "    <tr>\n",
       "      <th>193565</th>\n",
       "      <td>{remaster, anime, gintama, comedy}</td>\n",
       "    </tr>\n",
       "  </tbody>\n",
       "</table>\n",
       "<p>1572 rows × 1 columns</p>\n",
       "</div>"
      ],
      "text/plain": [
       "                                                       tag\n",
       "movieId                                                   \n",
       "1                                             {fun, pixar}\n",
       "2        {game, magic board game, robin williams, fantasy}\n",
       "3                                             {old, moldy}\n",
       "5                                      {pregnancy, remake}\n",
       "7                                                 {remake}\n",
       "...                                                    ...\n",
       "183611                     {rachel mcadams, funny, comedy}\n",
       "184471   {adventure, alicia vikander, video game adapta...\n",
       "187593               {ryan reynolds, sarcasm, josh brolin}\n",
       "187595                          {star wars, emilia clarke}\n",
       "193565                  {remaster, anime, gintama, comedy}\n",
       "\n",
       "[1572 rows x 1 columns]"
      ]
     },
     "execution_count": 9,
     "metadata": {},
     "output_type": "execute_result"
    }
   ],
   "source": [
    "# movieId 별로 tag 집합 생성\n",
    "tag_set = tags.groupby('movieId')['tag'].apply(set);pd.DataFrame(tag_set)"
   ]
  },
  {
   "cell_type": "markdown",
   "id": "4ef3c66a",
   "metadata": {},
   "source": [
    "### Task 2. Latent Factor 모델을 이용하여 학습하기"
   ]
  },
  {
   "cell_type": "markdown",
   "id": "c9346e28",
   "metadata": {},
   "source": [
    "- Task 2-1. P, Q 등 파라미터 초기화 후, optimizer 등을 이용해서 학습하기"
   ]
  },
  {
   "cell_type": "code",
   "execution_count": 10,
   "id": "7b7c8fad",
   "metadata": {},
   "outputs": [],
   "source": [
    "# 텐서로 변경\n",
    "items = torch.LongTensor([i for i in train['movieId']])\n",
    "users = torch.LongTensor([i for i in train['userId']])\n",
    "rating = torch.FloatTensor([i for i in train['rating']])\n",
    "\n",
    "items_test = torch.LongTensor([i for i in test['movieId']])\n",
    "users_test = torch.LongTensor([i for i in test['userId']])\n",
    "rating_test = torch.FloatTensor([i for i in test['rating']])"
   ]
  },
  {
   "cell_type": "code",
   "execution_count": 11,
   "id": "03abdba0",
   "metadata": {},
   "outputs": [],
   "source": [
    "rank = 10\n",
    "numItems = items.max() + 1\n",
    "numUsers = users.max() + 1"
   ]
  },
  {
   "cell_type": "code",
   "execution_count": 12,
   "id": "a2ae4a02",
   "metadata": {},
   "outputs": [],
   "source": [
    "P = torch.randn(numItems, rank, requires_grad=True)\n",
    "Q = torch.randn(numUsers, rank, requires_grad=True)"
   ]
  },
  {
   "cell_type": "code",
   "execution_count": 13,
   "id": "af1b11c1",
   "metadata": {},
   "outputs": [
    {
     "name": "stdout",
     "output_type": "stream",
     "text": [
      "epoch: 0, cost: 14.0994138718, train_rmse: 3.4846687317, test_rmse: 3.5030674934\n",
      "epoch: 100, cost: 0.5888507366, train_rmse: 0.7668959498, test_rmse: 0.8754818439\n",
      "epoch: 200, cost: 0.5296276808, train_rmse: 0.7275682092, test_rmse: 0.8679994345\n",
      "epoch: 300, cost: 0.5107439160, train_rmse: 0.7145736217, test_rmse: 0.8645431399\n",
      "epoch: 400, cost: 0.5019251108, train_rmse: 0.7084277272, test_rmse: 0.8625626564\n",
      "epoch: 500, cost: 0.4980359375, train_rmse: 0.7056968212, test_rmse: 0.8613660336\n",
      "epoch: 600, cost: 0.4959010780, train_rmse: 0.7041903138, test_rmse: 0.8605996966\n",
      "epoch: 700, cost: 0.4944955707, train_rmse: 0.7031967640, test_rmse: 0.8600432277\n",
      "epoch: 800, cost: 0.4935325682, train_rmse: 0.7025125623, test_rmse: 0.8596073985\n",
      "epoch: 900, cost: 0.4928950667, train_rmse: 0.7020601630, test_rmse: 0.8592808247\n"
     ]
    }
   ],
   "source": [
    "# Regularization추가하기\n",
    "lambda1 = 0.00035\n",
    "lambda2 = 0.0001\n",
    "lambda3 = 0.000035\n",
    "lambda4 = 0.00001\n",
    "\n",
    "# bias 추가\n",
    "bias_item = torch.randn(numItems, requires_grad=True)\n",
    "bias_user = torch.randn(numUsers, requires_grad=True)\n",
    "mean = (rating.sum() / len(rating)).item()\n",
    "\n",
    "optimizer = torch.optim.Adam([P, Q, bias_item, bias_user], lr=0.05)\n",
    "\n",
    "#그래프 그려보기 위해 저장\n",
    "X = []\n",
    "Y = []\n",
    "Y_test = []\n",
    "\n",
    "for epoch in range(1000):\n",
    "    hypothesis = torch.sum(P[items] * Q[users], dim=1) + mean + bias_item[items] + bias_user[users]\n",
    "    cost = F.mse_loss(hypothesis ,rating)\n",
    "    loss = cost + lambda1 * torch.sum(P ** 2) + lambda2 * torch.sum(Q ** 2) + lambda3 * torch.sum(bias_item ** 2) + lambda4 * torch.sum(bias_user ** 2)\n",
    "    \n",
    "    optimizer.zero_grad()\n",
    "    loss.backward()\n",
    "    optimizer.step()\n",
    "\n",
    "    X.append(epoch)\n",
    "    Y.append(cost)\n",
    "    with torch.no_grad():\n",
    "        hypo_train = torch.sum(P[items] * Q[users], dim=1) + mean + bias_item[items] + bias_user[users]\n",
    "        hypo_test = torch.sum(P[items_test] * Q[users_test], dim=1) + mean + bias_item[items_test] + bias_user[users_test]\n",
    "        \n",
    "        \n",
    "        cost_train = np.sqrt(F.mse_loss(hypo_train, rating))\n",
    "        cost_test = np.sqrt(F.mse_loss(hypo_test, rating_test))\n",
    "        Y_test.append(cost_test)\n",
    "\n",
    "    if epoch % 100 == 0:\n",
    "        print(\"epoch: {}, cost: {:.10f}, train_rmse: {:.10f}, test_rmse: {:.10f}\" .format(epoch, cost.item(),cost_train, cost_test))"
   ]
  },
  {
   "cell_type": "code",
   "execution_count": 14,
   "id": "d61fd1dc",
   "metadata": {},
   "outputs": [
    {
     "data": {
      "image/png": "[encoded data removed]",
      "text/plain": [
       "<Figure size 432x288 with 1 Axes>"
      ]
     },
     "metadata": {
      "needs_background": "light"
     },
     "output_type": "display_data"
    }
   ],
   "source": [
    "# Matplotlib으로epoch마다TrainingMSE그려보기\n",
    "plt.ylabel(\"MSE\")\n",
    "plt.xlabel(\"Epoch\")\n",
    "plt.plot(X,Y, c=\"blue\", label=\"Training MSE\")\n",
    "plt.plot(X,Y_test, c=\"red\", label=\"Test MSE\")\n",
    "plt.legend()\n",
    "plt.show()"
   ]
  },
  {
   "cell_type": "markdown",
   "id": "aea09f5f",
   "metadata": {},
   "source": [
    "### Task 3. 514번 User에게 추천하기 (knn search, similarity)"
   ]
  },
  {
   "cell_type": "markdown",
   "id": "63b7b429",
   "metadata": {},
   "source": [
    "- Task 3-1. 514번 user의 예상 별점이 가장 높은 영화 20개를 찾아서 id 및 영화 이름\n",
    "출력하기"
   ]
  },
  {
   "cell_type": "code",
   "execution_count": 15,
   "id": "7abb46a7",
   "metadata": {},
   "outputs": [
    {
     "data": {
      "text/plain": [
       "(206, 270)"
      ]
     },
     "execution_count": 15,
     "metadata": {},
     "output_type": "execute_result"
    }
   ],
   "source": [
    "# Latent Factor model을 이용하여 별점 예측\n",
    "# 514번 유져의 인덱스 확인\n",
    "list(users).index(514),list(users_test).index(514)"
   ]
  },
  {
   "cell_type": "code",
   "execution_count": 16,
   "id": "20979cee",
   "metadata": {},
   "outputs": [],
   "source": [
    "hypo_train_514 = torch.sum(P[items] * Q[206], dim=1) + mean + bias_item[items] + bias_user[206]\n",
    "hypo_test_514 = torch.sum(P[items_test] * Q[270], dim=1) + mean + bias_item[items_test] + bias_user[270]"
   ]
  },
  {
   "cell_type": "code",
   "execution_count": 17,
   "id": "2fadcd3c",
   "metadata": {},
   "outputs": [],
   "source": [
    "# train\n",
    "train_514 = pd.DataFrame(hypo_train_514).astype(float)\n",
    "train_514['movieId'] = train['movieId'].reset_index(drop=True)\n",
    "train_514 = train_514[['movieId', 0]]\n",
    "# test\n",
    "test_514 = pd.DataFrame(hypo_test_514).astype(float)\n",
    "test_514['movieId'] = test['movieId'].reset_index(drop=True)\n",
    "test_514 = test_514[['movieId', 0]]"
   ]
  },
  {
   "cell_type": "code",
   "execution_count": 18,
   "id": "42ee2d94",
   "metadata": {},
   "outputs": [],
   "source": [
    "# 514의 예상별점 뽑기\n",
    "pred_514 = pd.concat([train_514, test_514])\n",
    "pred_514 = pred_514.drop_duplicates('movieId').reset_index(drop=True)\n",
    "# data로 만듦\n",
    "data = pd.merge(movies,pred_514, how='left', on='movieId')[['movieId', 'title', 0]]"
   ]
  },
  {
   "cell_type": "code",
   "execution_count": 19,
   "id": "bb3bde1d",
   "metadata": {},
   "outputs": [
    {
     "data": {
      "text/html": [
       "<div>\n",
       "<style scoped>\n",
       "    .dataframe tbody tr th:only-of-type {\n",
       "        vertical-align: middle;\n",
       "    }\n",
       "\n",
       "    .dataframe tbody tr th {\n",
       "        vertical-align: top;\n",
       "    }\n",
       "\n",
       "    .dataframe thead th {\n",
       "        text-align: right;\n",
       "    }\n",
       "</style>\n",
       "<table border=\"1\" class=\"dataframe\">\n",
       "  <thead>\n",
       "    <tr style=\"text-align: right;\">\n",
       "      <th></th>\n",
       "      <th>movieId</th>\n",
       "      <th>title</th>\n",
       "      <th>0</th>\n",
       "    </tr>\n",
       "  </thead>\n",
       "  <tbody>\n",
       "    <tr>\n",
       "      <th>2582</th>\n",
       "      <td>3451</td>\n",
       "      <td>Guess Who's Coming to Dinner (1967)</td>\n",
       "      <td>4.846028</td>\n",
       "    </tr>\n",
       "    <tr>\n",
       "      <th>9618</th>\n",
       "      <td>177593</td>\n",
       "      <td>Three Billboards Outside Ebbing, Missouri (2017)</td>\n",
       "      <td>4.839806</td>\n",
       "    </tr>\n",
       "    <tr>\n",
       "      <th>277</th>\n",
       "      <td>318</td>\n",
       "      <td>Shawshank Redemption, The (1994)</td>\n",
       "      <td>4.786158</td>\n",
       "    </tr>\n",
       "    <tr>\n",
       "      <th>731</th>\n",
       "      <td>951</td>\n",
       "      <td>His Girl Friday (1940)</td>\n",
       "      <td>4.756495</td>\n",
       "    </tr>\n",
       "    <tr>\n",
       "      <th>937</th>\n",
       "      <td>1237</td>\n",
       "      <td>Seventh Seal, The (Sjunde inseglet, Det) (1957)</td>\n",
       "      <td>4.750024</td>\n",
       "    </tr>\n",
       "    <tr>\n",
       "      <th>694</th>\n",
       "      <td>912</td>\n",
       "      <td>Casablanca (1942)</td>\n",
       "      <td>4.709698</td>\n",
       "    </tr>\n",
       "    <tr>\n",
       "      <th>602</th>\n",
       "      <td>750</td>\n",
       "      <td>Dr. Strangelove or: How I Learned to Stop Worr...</td>\n",
       "      <td>4.700595</td>\n",
       "    </tr>\n",
       "    <tr>\n",
       "      <th>2462</th>\n",
       "      <td>3275</td>\n",
       "      <td>Boondock Saints, The (2000)</td>\n",
       "      <td>4.692386</td>\n",
       "    </tr>\n",
       "    <tr>\n",
       "      <th>9570</th>\n",
       "      <td>174053</td>\n",
       "      <td>Black Mirror: White Christmas (2014)</td>\n",
       "      <td>4.683300</td>\n",
       "    </tr>\n",
       "    <tr>\n",
       "      <th>4590</th>\n",
       "      <td>6818</td>\n",
       "      <td>Come and See (Idi i smotri) (1985)</td>\n",
       "      <td>4.678341</td>\n",
       "    </tr>\n",
       "    <tr>\n",
       "      <th>9301</th>\n",
       "      <td>158966</td>\n",
       "      <td>Captain Fantastic (2016)</td>\n",
       "      <td>4.674308</td>\n",
       "    </tr>\n",
       "    <tr>\n",
       "      <th>906</th>\n",
       "      <td>1204</td>\n",
       "      <td>Lawrence of Arabia (1962)</td>\n",
       "      <td>4.672331</td>\n",
       "    </tr>\n",
       "    <tr>\n",
       "      <th>680</th>\n",
       "      <td>898</td>\n",
       "      <td>Philadelphia Story, The (1940)</td>\n",
       "      <td>4.670308</td>\n",
       "    </tr>\n",
       "    <tr>\n",
       "      <th>2593</th>\n",
       "      <td>3468</td>\n",
       "      <td>Hustler, The (1961)</td>\n",
       "      <td>4.666378</td>\n",
       "    </tr>\n",
       "    <tr>\n",
       "      <th>7621</th>\n",
       "      <td>87234</td>\n",
       "      <td>Submarine (2010)</td>\n",
       "      <td>4.658568</td>\n",
       "    </tr>\n",
       "    <tr>\n",
       "      <th>8301</th>\n",
       "      <td>106642</td>\n",
       "      <td>Day of the Doctor, The (2013)</td>\n",
       "      <td>4.657935</td>\n",
       "    </tr>\n",
       "    <tr>\n",
       "      <th>7114</th>\n",
       "      <td>70946</td>\n",
       "      <td>Troll 2 (1990)</td>\n",
       "      <td>4.657885</td>\n",
       "    </tr>\n",
       "    <tr>\n",
       "      <th>46</th>\n",
       "      <td>50</td>\n",
       "      <td>Usual Suspects, The (1995)</td>\n",
       "      <td>4.652577</td>\n",
       "    </tr>\n",
       "    <tr>\n",
       "      <th>2453</th>\n",
       "      <td>3266</td>\n",
       "      <td>Man Bites Dog (C'est arrivé près de chez vous)...</td>\n",
       "      <td>4.652143</td>\n",
       "    </tr>\n",
       "    <tr>\n",
       "      <th>686</th>\n",
       "      <td>904</td>\n",
       "      <td>Rear Window (1954)</td>\n",
       "      <td>4.651217</td>\n",
       "    </tr>\n",
       "  </tbody>\n",
       "</table>\n",
       "</div>"
      ],
      "text/plain": [
       "      movieId                                              title         0\n",
       "2582     3451                Guess Who's Coming to Dinner (1967)  4.846028\n",
       "9618   177593   Three Billboards Outside Ebbing, Missouri (2017)  4.839806\n",
       "277       318                   Shawshank Redemption, The (1994)  4.786158\n",
       "731       951                             His Girl Friday (1940)  4.756495\n",
       "937      1237    Seventh Seal, The (Sjunde inseglet, Det) (1957)  4.750024\n",
       "694       912                                  Casablanca (1942)  4.709698\n",
       "602       750  Dr. Strangelove or: How I Learned to Stop Worr...  4.700595\n",
       "2462     3275                        Boondock Saints, The (2000)  4.692386\n",
       "9570   174053               Black Mirror: White Christmas (2014)  4.683300\n",
       "4590     6818                 Come and See (Idi i smotri) (1985)  4.678341\n",
       "9301   158966                           Captain Fantastic (2016)  4.674308\n",
       "906      1204                          Lawrence of Arabia (1962)  4.672331\n",
       "680       898                     Philadelphia Story, The (1940)  4.670308\n",
       "2593     3468                                Hustler, The (1961)  4.666378\n",
       "7621    87234                                   Submarine (2010)  4.658568\n",
       "8301   106642                      Day of the Doctor, The (2013)  4.657935\n",
       "7114    70946                                     Troll 2 (1990)  4.657885\n",
       "46         50                         Usual Suspects, The (1995)  4.652577\n",
       "2453     3266  Man Bites Dog (C'est arrivé près de chez vous)...  4.652143\n",
       "686       904                                 Rear Window (1954)  4.651217"
      ]
     },
     "execution_count": 19,
     "metadata": {},
     "output_type": "execute_result"
    }
   ],
   "source": [
    "# 예상별점순으로 상위 20개 영화 정렬\n",
    "seen_list = list(ratings.query('userId == 514')['movieId'])\n",
    "data.query('movieId not in @seen_list').sort_values(by=[0], axis=0, ascending=False).iloc[:20,:]"
   ]
  },
  {
   "cell_type": "code",
   "execution_count": 20,
   "id": "a2eeb8d2",
   "metadata": {},
   "outputs": [],
   "source": [
    "# 이후 5-3-2에 쓰임\n",
    "df_3_1 = data.query('movieId not in @seen_list').sort_values(by=[0], axis=0, ascending=False).iloc[:20,:]"
   ]
  },
  {
   "cell_type": "markdown",
   "id": "2d10db71",
   "metadata": {},
   "source": [
    "- Task 3-2. (10 점) 장르 및 tag를 기준으로, 514번 user가 5점을 준 영화들을 찾고, 각각의 영화와\n",
    "가장 유사한 영화를 5개씩 찾아서 id, 영화 이름, 유사도 점수 출력하기\n"
   ]
  },
  {
   "cell_type": "code",
   "execution_count": 21,
   "id": "73e1464b",
   "metadata": {},
   "outputs": [],
   "source": [
    "# 장르와 tag를 합쳐서 df를 만듦\n",
    "meta = pd.merge(movies, tag_set, on='movieId', how='inner')"
   ]
  },
  {
   "cell_type": "code",
   "execution_count": 22,
   "id": "08d6fcf4",
   "metadata": {},
   "outputs": [
    {
     "data": {
      "text/html": [
       "<div>\n",
       "<style scoped>\n",
       "    .dataframe tbody tr th:only-of-type {\n",
       "        vertical-align: middle;\n",
       "    }\n",
       "\n",
       "    .dataframe tbody tr th {\n",
       "        vertical-align: top;\n",
       "    }\n",
       "\n",
       "    .dataframe thead th {\n",
       "        text-align: right;\n",
       "    }\n",
       "</style>\n",
       "<table border=\"1\" class=\"dataframe\">\n",
       "  <thead>\n",
       "    <tr style=\"text-align: right;\">\n",
       "      <th></th>\n",
       "      <th>movieId</th>\n",
       "      <th>title</th>\n",
       "      <th>genres</th>\n",
       "      <th>tag</th>\n",
       "    </tr>\n",
       "  </thead>\n",
       "  <tbody>\n",
       "    <tr>\n",
       "      <th>0</th>\n",
       "      <td>260</td>\n",
       "      <td>Star Wars: Episode IV - A New Hope (1977)</td>\n",
       "      <td>{Action, Adventure, Sci-Fi}</td>\n",
       "      <td>{engrossing adventure, space adventure, space,...</td>\n",
       "    </tr>\n",
       "    <tr>\n",
       "      <th>1</th>\n",
       "      <td>593</td>\n",
       "      <td>Silence of the Lambs, The (1991)</td>\n",
       "      <td>{Crime, Horror, Thriller}</td>\n",
       "      <td>{suspense, drama, gothic, disturbing, psycholo...</td>\n",
       "    </tr>\n",
       "    <tr>\n",
       "      <th>2</th>\n",
       "      <td>1196</td>\n",
       "      <td>Star Wars: Episode V - The Empire Strikes Back...</td>\n",
       "      <td>{Action, Adventure, Sci-Fi}</td>\n",
       "      <td>{george lucas, sci-fi, music, harrison ford, s...</td>\n",
       "    </tr>\n",
       "    <tr>\n",
       "      <th>3</th>\n",
       "      <td>1197</td>\n",
       "      <td>Princess Bride, The (1987)</td>\n",
       "      <td>{Fantasy, Romance, Action, Adventure, Comedy}</td>\n",
       "      <td>{inigo montoya, six-fingered man}</td>\n",
       "    </tr>\n",
       "    <tr>\n",
       "      <th>4</th>\n",
       "      <td>1198</td>\n",
       "      <td>Raiders of the Lost Ark (Indiana Jones and the...</td>\n",
       "      <td>{Action, Adventure}</td>\n",
       "      <td>{treasure hunt, adventure, archaeology, steven...</td>\n",
       "    </tr>\n",
       "    <tr>\n",
       "      <th>5</th>\n",
       "      <td>1200</td>\n",
       "      <td>Aliens (1986)</td>\n",
       "      <td>{Action, Adventure, Sci-Fi, Horror}</td>\n",
       "      <td>{space travel, space craft, sci-fi, suspense, ...</td>\n",
       "    </tr>\n",
       "    <tr>\n",
       "      <th>6</th>\n",
       "      <td>1270</td>\n",
       "      <td>Back to the Future (1985)</td>\n",
       "      <td>{Adventure, Sci-Fi, Comedy}</td>\n",
       "      <td>{time travel}</td>\n",
       "    </tr>\n",
       "    <tr>\n",
       "      <th>7</th>\n",
       "      <td>1302</td>\n",
       "      <td>Field of Dreams (1989)</td>\n",
       "      <td>{Fantasy, Children, Drama}</td>\n",
       "      <td>{baseball}</td>\n",
       "    </tr>\n",
       "    <tr>\n",
       "      <th>8</th>\n",
       "      <td>1387</td>\n",
       "      <td>Jaws (1975)</td>\n",
       "      <td>{Action, Horror}</td>\n",
       "      <td>{shark}</td>\n",
       "    </tr>\n",
       "    <tr>\n",
       "      <th>9</th>\n",
       "      <td>6979</td>\n",
       "      <td>WarGames (1983)</td>\n",
       "      <td>{Thriller, Sci-Fi, Drama}</td>\n",
       "      <td>{cold war}</td>\n",
       "    </tr>\n",
       "    <tr>\n",
       "      <th>10</th>\n",
       "      <td>80463</td>\n",
       "      <td>Social Network, The (2010)</td>\n",
       "      <td>{Drama}</td>\n",
       "      <td>{loneliness, witty, good dialogue}</td>\n",
       "    </tr>\n",
       "  </tbody>\n",
       "</table>\n",
       "</div>"
      ],
      "text/plain": [
       "    movieId                                              title  \\\n",
       "0       260          Star Wars: Episode IV - A New Hope (1977)   \n",
       "1       593                   Silence of the Lambs, The (1991)   \n",
       "2      1196  Star Wars: Episode V - The Empire Strikes Back...   \n",
       "3      1197                         Princess Bride, The (1987)   \n",
       "4      1198  Raiders of the Lost Ark (Indiana Jones and the...   \n",
       "5      1200                                      Aliens (1986)   \n",
       "6      1270                          Back to the Future (1985)   \n",
       "7      1302                             Field of Dreams (1989)   \n",
       "8      1387                                        Jaws (1975)   \n",
       "9      6979                                    WarGames (1983)   \n",
       "10    80463                         Social Network, The (2010)   \n",
       "\n",
       "                                           genres  \\\n",
       "0                     {Action, Adventure, Sci-Fi}   \n",
       "1                       {Crime, Horror, Thriller}   \n",
       "2                     {Action, Adventure, Sci-Fi}   \n",
       "3   {Fantasy, Romance, Action, Adventure, Comedy}   \n",
       "4                             {Action, Adventure}   \n",
       "5             {Action, Adventure, Sci-Fi, Horror}   \n",
       "6                     {Adventure, Sci-Fi, Comedy}   \n",
       "7                      {Fantasy, Children, Drama}   \n",
       "8                                {Action, Horror}   \n",
       "9                       {Thriller, Sci-Fi, Drama}   \n",
       "10                                        {Drama}   \n",
       "\n",
       "                                                  tag  \n",
       "0   {engrossing adventure, space adventure, space,...  \n",
       "1   {suspense, drama, gothic, disturbing, psycholo...  \n",
       "2   {george lucas, sci-fi, music, harrison ford, s...  \n",
       "3                   {inigo montoya, six-fingered man}  \n",
       "4   {treasure hunt, adventure, archaeology, steven...  \n",
       "5   {space travel, space craft, sci-fi, suspense, ...  \n",
       "6                                       {time travel}  \n",
       "7                                          {baseball}  \n",
       "8                                             {shark}  \n",
       "9                                          {cold war}  \n",
       "10                 {loneliness, witty, good dialogue}  "
      ]
     },
     "execution_count": 22,
     "metadata": {},
     "output_type": "execute_result"
    }
   ],
   "source": [
    "# 514번 유져가 5점을 준 영화들\n",
    "movie_5_list = list(ratings.query('userId == 514 and rating == 5.0')['movieId'])\n",
    "# meta에서 찾아서 뽑음\n",
    "movie_5 = meta.query('movieId in @movie_5_list').reset_index(drop=True);movie_5"
   ]
  },
  {
   "cell_type": "code",
   "execution_count": 23,
   "id": "bd84e684",
   "metadata": {},
   "outputs": [],
   "source": [
    "#자카드 유사도를 구하는 함수를 생성\n",
    "def jaccard_similarity(s1, s2):\n",
    "    if len(s1|s2) == 0:\n",
    "        return 0\n",
    "    return len(s1&s2)/len(s1|s2)"
   ]
  },
  {
   "cell_type": "code",
   "execution_count": 24,
   "id": "ad641709",
   "metadata": {},
   "outputs": [],
   "source": [
    "#자카드 유사도를 구함\n",
    "for j in range(len(movie_5)):\n",
    "    # 자카드 유사도를 구한 리스트 생성 (15개 생성)\n",
    "    globals()[f'list_{j}'] = []\n",
    "    for i in range(len(meta)):\n",
    "        globals()[f'list_{j}'].append(jaccard_similarity(meta.iloc[i].genres|meta.iloc[i].tag, movie_5.iloc[j].genres|movie_5.iloc[j].tag))"
   ]
  },
  {
   "cell_type": "code",
   "execution_count": 25,
   "id": "2c67a1c6",
   "metadata": {},
   "outputs": [],
   "source": [
    "# 위에서 구한 유사도를 df로 만들어줌\n",
    "df_similar = pd.Series(list_0)\n",
    "for i in range(1,len(movie_5)):\n",
    "    df_similar = pd.concat([df_similar, pd.Series(globals()[f'list_{i}'])], axis=1)\n",
    "# 열이름을 바꾸어줌\n",
    "df_similar.columns = [i for i in range(len(movie_5))]\n",
    "# 메타에 유사도를 합친 df생성\n",
    "meta = pd.concat([meta, df_similar], axis=1)"
   ]
  },
  {
   "cell_type": "code",
   "execution_count": 26,
   "id": "3355d650",
   "metadata": {},
   "outputs": [
    {
     "name": "stdout",
     "output_type": "stream",
     "text": [
      "Star Wars: Episode IV - A New Hope (1977)\n"
     ]
    },
    {
     "data": {
      "text/html": [
       "<div>\n",
       "<style scoped>\n",
       "    .dataframe tbody tr th:only-of-type {\n",
       "        vertical-align: middle;\n",
       "    }\n",
       "\n",
       "    .dataframe tbody tr th {\n",
       "        vertical-align: top;\n",
       "    }\n",
       "\n",
       "    .dataframe thead th {\n",
       "        text-align: right;\n",
       "    }\n",
       "</style>\n",
       "<table border=\"1\" class=\"dataframe\">\n",
       "  <thead>\n",
       "    <tr style=\"text-align: right;\">\n",
       "      <th></th>\n",
       "      <th>movieId</th>\n",
       "      <th>title</th>\n",
       "      <th>0</th>\n",
       "    </tr>\n",
       "  </thead>\n",
       "  <tbody>\n",
       "    <tr>\n",
       "      <th>299</th>\n",
       "      <td>1210</td>\n",
       "      <td>Star Wars: Episode VI - Return of the Jedi (1983)</td>\n",
       "      <td>0.285714</td>\n",
       "    </tr>\n",
       "    <tr>\n",
       "      <th>288</th>\n",
       "      <td>1196</td>\n",
       "      <td>Star Wars: Episode V - The Empire Strikes Back...</td>\n",
       "      <td>0.259259</td>\n",
       "    </tr>\n",
       "    <tr>\n",
       "      <th>1315</th>\n",
       "      <td>33493</td>\n",
       "      <td>Star Wars: Episode III - Revenge of the Sith (...</td>\n",
       "      <td>0.238095</td>\n",
       "    </tr>\n",
       "    <tr>\n",
       "      <th>291</th>\n",
       "      <td>1200</td>\n",
       "      <td>Aliens (1986)</td>\n",
       "      <td>0.222222</td>\n",
       "    </tr>\n",
       "    <tr>\n",
       "      <th>1570</th>\n",
       "      <td>187595</td>\n",
       "      <td>Solo: A Star Wars Story (2018)</td>\n",
       "      <td>0.173913</td>\n",
       "    </tr>\n",
       "  </tbody>\n",
       "</table>\n",
       "</div>"
      ],
      "text/plain": [
       "      movieId                                              title         0\n",
       "299      1210  Star Wars: Episode VI - Return of the Jedi (1983)  0.285714\n",
       "288      1196  Star Wars: Episode V - The Empire Strikes Back...  0.259259\n",
       "1315    33493  Star Wars: Episode III - Revenge of the Sith (...  0.238095\n",
       "291      1200                                      Aliens (1986)  0.222222\n",
       "1570   187595                     Solo: A Star Wars Story (2018)  0.173913"
      ]
     },
     "execution_count": 26,
     "metadata": {},
     "output_type": "execute_result"
    }
   ],
   "source": [
    "# 0번째 기준으로 뽑되 유사도 1인 것은 같은 영화이기 때문에 제외\n",
    "print(movie_5.iloc[0]['title'])\n",
    "meta.sort_values(by=[0], axis=0, ascending=False).iloc[1:6,:][['movieId', 'title', 0]]"
   ]
  },
  {
   "cell_type": "code",
   "execution_count": 27,
   "id": "600f5dbc",
   "metadata": {},
   "outputs": [
    {
     "name": "stdout",
     "output_type": "stream",
     "text": [
      "Silence of the Lambs, The (1991)\n"
     ]
    },
    {
     "data": {
      "text/html": [
       "<div>\n",
       "<style scoped>\n",
       "    .dataframe tbody tr th:only-of-type {\n",
       "        vertical-align: middle;\n",
       "    }\n",
       "\n",
       "    .dataframe tbody tr th {\n",
       "        vertical-align: top;\n",
       "    }\n",
       "\n",
       "    .dataframe thead th {\n",
       "        text-align: right;\n",
       "    }\n",
       "</style>\n",
       "<table border=\"1\" class=\"dataframe\">\n",
       "  <thead>\n",
       "    <tr style=\"text-align: right;\">\n",
       "      <th></th>\n",
       "      <th>movieId</th>\n",
       "      <th>title</th>\n",
       "      <th>1</th>\n",
       "    </tr>\n",
       "  </thead>\n",
       "  <tbody>\n",
       "    <tr>\n",
       "      <th>853</th>\n",
       "      <td>4725</td>\n",
       "      <td>Session 9 (2001)</td>\n",
       "      <td>0.363636</td>\n",
       "    </tr>\n",
       "    <tr>\n",
       "      <th>1003</th>\n",
       "      <td>6323</td>\n",
       "      <td>Identity (2003)</td>\n",
       "      <td>0.272727</td>\n",
       "    </tr>\n",
       "    <tr>\n",
       "      <th>153</th>\n",
       "      <td>628</td>\n",
       "      <td>Primal Fear (1996)</td>\n",
       "      <td>0.266667</td>\n",
       "    </tr>\n",
       "    <tr>\n",
       "      <th>1252</th>\n",
       "      <td>8957</td>\n",
       "      <td>Saw (2004)</td>\n",
       "      <td>0.266667</td>\n",
       "    </tr>\n",
       "    <tr>\n",
       "      <th>10</th>\n",
       "      <td>22</td>\n",
       "      <td>Copycat (1995)</td>\n",
       "      <td>0.250000</td>\n",
       "    </tr>\n",
       "  </tbody>\n",
       "</table>\n",
       "</div>"
      ],
      "text/plain": [
       "      movieId               title         1\n",
       "853      4725    Session 9 (2001)  0.363636\n",
       "1003     6323     Identity (2003)  0.272727\n",
       "153       628  Primal Fear (1996)  0.266667\n",
       "1252     8957          Saw (2004)  0.266667\n",
       "10         22      Copycat (1995)  0.250000"
      ]
     },
     "execution_count": 27,
     "metadata": {},
     "output_type": "execute_result"
    }
   ],
   "source": [
    "# 1번째 기준으로 뽑되 유사도 1인 것은 같은 영화이기 때문에 제외\n",
    "print(movie_5.iloc[1]['title'])\n",
    "meta.sort_values(by=[1], axis=0, ascending=False).iloc[1:6,:][['movieId', 'title', 1]]"
   ]
  },
  {
   "cell_type": "code",
   "execution_count": 28,
   "id": "9dd41c8e",
   "metadata": {},
   "outputs": [
    {
     "name": "stdout",
     "output_type": "stream",
     "text": [
      "Star Wars: Episode V - The Empire Strikes Back (1980)\n"
     ]
    },
    {
     "data": {
      "text/html": [
       "<div>\n",
       "<style scoped>\n",
       "    .dataframe tbody tr th:only-of-type {\n",
       "        vertical-align: middle;\n",
       "    }\n",
       "\n",
       "    .dataframe tbody tr th {\n",
       "        vertical-align: top;\n",
       "    }\n",
       "\n",
       "    .dataframe thead th {\n",
       "        text-align: right;\n",
       "    }\n",
       "</style>\n",
       "<table border=\"1\" class=\"dataframe\">\n",
       "  <thead>\n",
       "    <tr style=\"text-align: right;\">\n",
       "      <th></th>\n",
       "      <th>movieId</th>\n",
       "      <th>title</th>\n",
       "      <th>2</th>\n",
       "    </tr>\n",
       "  </thead>\n",
       "  <tbody>\n",
       "    <tr>\n",
       "      <th>1315</th>\n",
       "      <td>33493</td>\n",
       "      <td>Star Wars: Episode III - Revenge of the Sith (...</td>\n",
       "      <td>0.384615</td>\n",
       "    </tr>\n",
       "    <tr>\n",
       "      <th>299</th>\n",
       "      <td>1210</td>\n",
       "      <td>Star Wars: Episode VI - Return of the Jedi (1983)</td>\n",
       "      <td>0.266667</td>\n",
       "    </tr>\n",
       "    <tr>\n",
       "      <th>65</th>\n",
       "      <td>260</td>\n",
       "      <td>Star Wars: Episode IV - A New Hope (1977)</td>\n",
       "      <td>0.259259</td>\n",
       "    </tr>\n",
       "    <tr>\n",
       "      <th>291</th>\n",
       "      <td>1200</td>\n",
       "      <td>Aliens (1986)</td>\n",
       "      <td>0.250000</td>\n",
       "    </tr>\n",
       "    <tr>\n",
       "      <th>1423</th>\n",
       "      <td>68358</td>\n",
       "      <td>Star Trek (2009)</td>\n",
       "      <td>0.238095</td>\n",
       "    </tr>\n",
       "  </tbody>\n",
       "</table>\n",
       "</div>"
      ],
      "text/plain": [
       "      movieId                                              title         2\n",
       "1315    33493  Star Wars: Episode III - Revenge of the Sith (...  0.384615\n",
       "299      1210  Star Wars: Episode VI - Return of the Jedi (1983)  0.266667\n",
       "65        260          Star Wars: Episode IV - A New Hope (1977)  0.259259\n",
       "291      1200                                      Aliens (1986)  0.250000\n",
       "1423    68358                                   Star Trek (2009)  0.238095"
      ]
     },
     "execution_count": 28,
     "metadata": {},
     "output_type": "execute_result"
    }
   ],
   "source": [
    "# 2번째 기준으로 뽑되 유사도 1인 것은 같은 영화이기 때문에 제외\n",
    "print(movie_5.iloc[2]['title'])\n",
    "meta.sort_values(by=[2], axis=0, ascending=False).iloc[1:6,:][['movieId', 'title', 2]]"
   ]
  },
  {
   "cell_type": "code",
   "execution_count": 29,
   "id": "0261453b",
   "metadata": {},
   "outputs": [
    {
     "name": "stdout",
     "output_type": "stream",
     "text": [
      "Princess Bride, The (1987)\n"
     ]
    },
    {
     "data": {
      "text/html": [
       "<div>\n",
       "<style scoped>\n",
       "    .dataframe tbody tr th:only-of-type {\n",
       "        vertical-align: middle;\n",
       "    }\n",
       "\n",
       "    .dataframe tbody tr th {\n",
       "        vertical-align: top;\n",
       "    }\n",
       "\n",
       "    .dataframe thead th {\n",
       "        text-align: right;\n",
       "    }\n",
       "</style>\n",
       "<table border=\"1\" class=\"dataframe\">\n",
       "  <thead>\n",
       "    <tr style=\"text-align: right;\">\n",
       "      <th></th>\n",
       "      <th>movieId</th>\n",
       "      <th>title</th>\n",
       "      <th>3</th>\n",
       "    </tr>\n",
       "  </thead>\n",
       "  <tbody>\n",
       "    <tr>\n",
       "      <th>1034</th>\n",
       "      <td>6539</td>\n",
       "      <td>Pirates of the Caribbean: The Curse of the Bla...</td>\n",
       "      <td>0.500000</td>\n",
       "    </tr>\n",
       "    <tr>\n",
       "      <th>137</th>\n",
       "      <td>552</td>\n",
       "      <td>Three Musketeers, The (1993)</td>\n",
       "      <td>0.500000</td>\n",
       "    </tr>\n",
       "    <tr>\n",
       "      <th>1276</th>\n",
       "      <td>26776</td>\n",
       "      <td>Porco Rosso (Crimson Pig) (Kurenai no buta) (1...</td>\n",
       "      <td>0.444444</td>\n",
       "    </tr>\n",
       "    <tr>\n",
       "      <th>1400</th>\n",
       "      <td>59103</td>\n",
       "      <td>Forbidden Kingdom, The (2008)</td>\n",
       "      <td>0.444444</td>\n",
       "    </tr>\n",
       "    <tr>\n",
       "      <th>101</th>\n",
       "      <td>380</td>\n",
       "      <td>True Lies (1994)</td>\n",
       "      <td>0.444444</td>\n",
       "    </tr>\n",
       "  </tbody>\n",
       "</table>\n",
       "</div>"
      ],
      "text/plain": [
       "      movieId                                              title         3\n",
       "1034     6539  Pirates of the Caribbean: The Curse of the Bla...  0.500000\n",
       "137       552                       Three Musketeers, The (1993)  0.500000\n",
       "1276    26776  Porco Rosso (Crimson Pig) (Kurenai no buta) (1...  0.444444\n",
       "1400    59103                      Forbidden Kingdom, The (2008)  0.444444\n",
       "101       380                                   True Lies (1994)  0.444444"
      ]
     },
     "execution_count": 29,
     "metadata": {},
     "output_type": "execute_result"
    }
   ],
   "source": [
    "# 3번째 기준으로 뽑되 유사도 1인 것은 같은 영화이기 때문에 제외\n",
    "print(movie_5.iloc[3]['title'])\n",
    "meta.sort_values(by=[3], axis=0, ascending=False).iloc[1:6,:][['movieId', 'title', 3]]"
   ]
  },
  {
   "cell_type": "code",
   "execution_count": 30,
   "id": "96e34e59",
   "metadata": {},
   "outputs": [
    {
     "name": "stdout",
     "output_type": "stream",
     "text": [
      "Raiders of the Lost Ark (Indiana Jones and the Raiders of the Lost Ark) (1981)\n"
     ]
    },
    {
     "data": {
      "text/html": [
       "<div>\n",
       "<style scoped>\n",
       "    .dataframe tbody tr th:only-of-type {\n",
       "        vertical-align: middle;\n",
       "    }\n",
       "\n",
       "    .dataframe tbody tr th {\n",
       "        vertical-align: top;\n",
       "    }\n",
       "\n",
       "    .dataframe thead th {\n",
       "        text-align: right;\n",
       "    }\n",
       "</style>\n",
       "<table border=\"1\" class=\"dataframe\">\n",
       "  <thead>\n",
       "    <tr style=\"text-align: right;\">\n",
       "      <th></th>\n",
       "      <th>movieId</th>\n",
       "      <th>title</th>\n",
       "      <th>4</th>\n",
       "    </tr>\n",
       "  </thead>\n",
       "  <tbody>\n",
       "    <tr>\n",
       "      <th>505</th>\n",
       "      <td>2115</td>\n",
       "      <td>Indiana Jones and the Temple of Doom (1984)</td>\n",
       "      <td>0.333333</td>\n",
       "    </tr>\n",
       "    <tr>\n",
       "      <th>352</th>\n",
       "      <td>1291</td>\n",
       "      <td>Indiana Jones and the Last Crusade (1989)</td>\n",
       "      <td>0.333333</td>\n",
       "    </tr>\n",
       "    <tr>\n",
       "      <th>1568</th>\n",
       "      <td>184471</td>\n",
       "      <td>Tomb Raider (2018)</td>\n",
       "      <td>0.272727</td>\n",
       "    </tr>\n",
       "    <tr>\n",
       "      <th>1039</th>\n",
       "      <td>6564</td>\n",
       "      <td>Lara Croft Tomb Raider: The Cradle of Life (2003)</td>\n",
       "      <td>0.230769</td>\n",
       "    </tr>\n",
       "    <tr>\n",
       "      <th>649</th>\n",
       "      <td>3030</td>\n",
       "      <td>Yojimbo (1961)</td>\n",
       "      <td>0.222222</td>\n",
       "    </tr>\n",
       "  </tbody>\n",
       "</table>\n",
       "</div>"
      ],
      "text/plain": [
       "      movieId                                              title         4\n",
       "505      2115        Indiana Jones and the Temple of Doom (1984)  0.333333\n",
       "352      1291          Indiana Jones and the Last Crusade (1989)  0.333333\n",
       "1568   184471                                 Tomb Raider (2018)  0.272727\n",
       "1039     6564  Lara Croft Tomb Raider: The Cradle of Life (2003)  0.230769\n",
       "649      3030                                     Yojimbo (1961)  0.222222"
      ]
     },
     "execution_count": 30,
     "metadata": {},
     "output_type": "execute_result"
    }
   ],
   "source": [
    "# 4번째 기준으로 뽑되 유사도 1인 것은 같은 영화이기 때문에 제외\n",
    "print(movie_5.iloc[4]['title'])\n",
    "meta.sort_values(by=[4], axis=0, ascending=False).iloc[1:6,:][['movieId', 'title', 4]]"
   ]
  },
  {
   "cell_type": "code",
   "execution_count": 31,
   "id": "9caea35e",
   "metadata": {},
   "outputs": [
    {
     "name": "stdout",
     "output_type": "stream",
     "text": [
      "Aliens (1986)\n"
     ]
    },
    {
     "data": {
      "text/html": [
       "<div>\n",
       "<style scoped>\n",
       "    .dataframe tbody tr th:only-of-type {\n",
       "        vertical-align: middle;\n",
       "    }\n",
       "\n",
       "    .dataframe tbody tr th {\n",
       "        vertical-align: top;\n",
       "    }\n",
       "\n",
       "    .dataframe thead th {\n",
       "        text-align: right;\n",
       "    }\n",
       "</style>\n",
       "<table border=\"1\" class=\"dataframe\">\n",
       "  <thead>\n",
       "    <tr style=\"text-align: right;\">\n",
       "      <th></th>\n",
       "      <th>movieId</th>\n",
       "      <th>title</th>\n",
       "      <th>5</th>\n",
       "    </tr>\n",
       "  </thead>\n",
       "  <tbody>\n",
       "    <tr>\n",
       "      <th>1423</th>\n",
       "      <td>68358</td>\n",
       "      <td>Star Trek (2009)</td>\n",
       "      <td>0.315789</td>\n",
       "    </tr>\n",
       "    <tr>\n",
       "      <th>171</th>\n",
       "      <td>780</td>\n",
       "      <td>Independence Day (a.k.a. ID4) (1996)</td>\n",
       "      <td>0.307692</td>\n",
       "    </tr>\n",
       "    <tr>\n",
       "      <th>1315</th>\n",
       "      <td>33493</td>\n",
       "      <td>Star Wars: Episode III - Revenge of the Sith (...</td>\n",
       "      <td>0.307692</td>\n",
       "    </tr>\n",
       "    <tr>\n",
       "      <th>592</th>\n",
       "      <td>2660</td>\n",
       "      <td>Thing from Another World, The (1951)</td>\n",
       "      <td>0.250000</td>\n",
       "    </tr>\n",
       "    <tr>\n",
       "      <th>288</th>\n",
       "      <td>1196</td>\n",
       "      <td>Star Wars: Episode V - The Empire Strikes Back...</td>\n",
       "      <td>0.250000</td>\n",
       "    </tr>\n",
       "  </tbody>\n",
       "</table>\n",
       "</div>"
      ],
      "text/plain": [
       "      movieId                                              title         5\n",
       "1423    68358                                   Star Trek (2009)  0.315789\n",
       "171       780               Independence Day (a.k.a. ID4) (1996)  0.307692\n",
       "1315    33493  Star Wars: Episode III - Revenge of the Sith (...  0.307692\n",
       "592      2660               Thing from Another World, The (1951)  0.250000\n",
       "288      1196  Star Wars: Episode V - The Empire Strikes Back...  0.250000"
      ]
     },
     "execution_count": 31,
     "metadata": {},
     "output_type": "execute_result"
    }
   ],
   "source": [
    "# 5번째 기준으로 뽑되 유사도 1인 것은 같은 영화이기 때문에 제외\n",
    "print(movie_5.iloc[5]['title'])\n",
    "meta.sort_values(by=[5], axis=0, ascending=False).iloc[1:6,:][['movieId', 'title', 5]]"
   ]
  },
  {
   "cell_type": "code",
   "execution_count": 32,
   "id": "7acc2b0a",
   "metadata": {},
   "outputs": [
    {
     "name": "stdout",
     "output_type": "stream",
     "text": [
      "Back to the Future (1985)\n"
     ]
    },
    {
     "data": {
      "text/html": [
       "<div>\n",
       "<style scoped>\n",
       "    .dataframe tbody tr th:only-of-type {\n",
       "        vertical-align: middle;\n",
       "    }\n",
       "\n",
       "    .dataframe tbody tr th {\n",
       "        vertical-align: top;\n",
       "    }\n",
       "\n",
       "    .dataframe thead th {\n",
       "        text-align: right;\n",
       "    }\n",
       "</style>\n",
       "<table border=\"1\" class=\"dataframe\">\n",
       "  <thead>\n",
       "    <tr style=\"text-align: right;\">\n",
       "      <th></th>\n",
       "      <th>movieId</th>\n",
       "      <th>title</th>\n",
       "      <th>6</th>\n",
       "    </tr>\n",
       "  </thead>\n",
       "  <tbody>\n",
       "    <tr>\n",
       "      <th>339</th>\n",
       "      <td>1270</td>\n",
       "      <td>Back to the Future (1985)</td>\n",
       "      <td>1.0</td>\n",
       "    </tr>\n",
       "    <tr>\n",
       "      <th>841</th>\n",
       "      <td>4571</td>\n",
       "      <td>Bill &amp; Ted's Excellent Adventure (1989)</td>\n",
       "      <td>1.0</td>\n",
       "    </tr>\n",
       "    <tr>\n",
       "      <th>642</th>\n",
       "      <td>2968</td>\n",
       "      <td>Time Bandits (1981)</td>\n",
       "      <td>0.8</td>\n",
       "    </tr>\n",
       "    <tr>\n",
       "      <th>874</th>\n",
       "      <td>4980</td>\n",
       "      <td>Bill &amp; Ted's Bogus Journey (1991)</td>\n",
       "      <td>0.8</td>\n",
       "    </tr>\n",
       "    <tr>\n",
       "      <th>675</th>\n",
       "      <td>3175</td>\n",
       "      <td>Galaxy Quest (1999)</td>\n",
       "      <td>0.6</td>\n",
       "    </tr>\n",
       "  </tbody>\n",
       "</table>\n",
       "</div>"
      ],
      "text/plain": [
       "     movieId                                    title    6\n",
       "339     1270                Back to the Future (1985)  1.0\n",
       "841     4571  Bill & Ted's Excellent Adventure (1989)  1.0\n",
       "642     2968                      Time Bandits (1981)  0.8\n",
       "874     4980        Bill & Ted's Bogus Journey (1991)  0.8\n",
       "675     3175                      Galaxy Quest (1999)  0.6"
      ]
     },
     "execution_count": 32,
     "metadata": {},
     "output_type": "execute_result"
    }
   ],
   "source": [
    "# 6번째 기준으로 뽑되 유사도 1인 것은 같은 영화이기 때문에 제외\n",
    "print(movie_5.iloc[6]['title'])\n",
    "meta.sort_values(by=[6], axis=0, ascending=False).iloc[1:6,:][['movieId', 'title', 6]]"
   ]
  },
  {
   "cell_type": "code",
   "execution_count": 33,
   "id": "609a1ca8",
   "metadata": {},
   "outputs": [
    {
     "name": "stdout",
     "output_type": "stream",
     "text": [
      "Field of Dreams (1989)\n"
     ]
    },
    {
     "data": {
      "text/html": [
       "<div>\n",
       "<style scoped>\n",
       "    .dataframe tbody tr th:only-of-type {\n",
       "        vertical-align: middle;\n",
       "    }\n",
       "\n",
       "    .dataframe tbody tr th {\n",
       "        vertical-align: top;\n",
       "    }\n",
       "\n",
       "    .dataframe thead th {\n",
       "        text-align: right;\n",
       "    }\n",
       "</style>\n",
       "<table border=\"1\" class=\"dataframe\">\n",
       "  <thead>\n",
       "    <tr style=\"text-align: right;\">\n",
       "      <th></th>\n",
       "      <th>movieId</th>\n",
       "      <th>title</th>\n",
       "      <th>7</th>\n",
       "    </tr>\n",
       "  </thead>\n",
       "  <tbody>\n",
       "    <tr>\n",
       "      <th>947</th>\n",
       "      <td>5971</td>\n",
       "      <td>My Neighbor Totoro (Tonari no Totoro) (1988)</td>\n",
       "      <td>0.500000</td>\n",
       "    </tr>\n",
       "    <tr>\n",
       "      <th>226</th>\n",
       "      <td>953</td>\n",
       "      <td>It's a Wonderful Life (1946)</td>\n",
       "      <td>0.500000</td>\n",
       "    </tr>\n",
       "    <tr>\n",
       "      <th>147</th>\n",
       "      <td>594</td>\n",
       "      <td>Snow White and the Seven Dwarfs (1937)</td>\n",
       "      <td>0.428571</td>\n",
       "    </tr>\n",
       "    <tr>\n",
       "      <th>1274</th>\n",
       "      <td>26662</td>\n",
       "      <td>Kiki's Delivery Service (Majo no takkyûbin) (1...</td>\n",
       "      <td>0.428571</td>\n",
       "    </tr>\n",
       "    <tr>\n",
       "      <th>662</th>\n",
       "      <td>3098</td>\n",
       "      <td>Natural, The (1984)</td>\n",
       "      <td>0.400000</td>\n",
       "    </tr>\n",
       "  </tbody>\n",
       "</table>\n",
       "</div>"
      ],
      "text/plain": [
       "      movieId                                              title         7\n",
       "947      5971       My Neighbor Totoro (Tonari no Totoro) (1988)  0.500000\n",
       "226       953                       It's a Wonderful Life (1946)  0.500000\n",
       "147       594             Snow White and the Seven Dwarfs (1937)  0.428571\n",
       "1274    26662  Kiki's Delivery Service (Majo no takkyûbin) (1...  0.428571\n",
       "662      3098                                Natural, The (1984)  0.400000"
      ]
     },
     "execution_count": 33,
     "metadata": {},
     "output_type": "execute_result"
    }
   ],
   "source": [
    "# 7번째 기준으로 뽑되 유사도 1인 것은 같은 영화이기 때문에 제외\n",
    "print(movie_5.iloc[7]['title'])\n",
    "meta.sort_values(by=[7], axis=0, ascending=False).iloc[1:6,:][['movieId', 'title', 7]]"
   ]
  },
  {
   "cell_type": "code",
   "execution_count": 34,
   "id": "69fbfb2b",
   "metadata": {},
   "outputs": [
    {
     "name": "stdout",
     "output_type": "stream",
     "text": [
      "Jaws (1975)\n"
     ]
    },
    {
     "data": {
      "text/html": [
       "<div>\n",
       "<style scoped>\n",
       "    .dataframe tbody tr th:only-of-type {\n",
       "        vertical-align: middle;\n",
       "    }\n",
       "\n",
       "    .dataframe tbody tr th {\n",
       "        vertical-align: top;\n",
       "    }\n",
       "\n",
       "    .dataframe thead th {\n",
       "        text-align: right;\n",
       "    }\n",
       "</style>\n",
       "<table border=\"1\" class=\"dataframe\">\n",
       "  <thead>\n",
       "    <tr style=\"text-align: right;\">\n",
       "      <th></th>\n",
       "      <th>movieId</th>\n",
       "      <th>title</th>\n",
       "      <th>8</th>\n",
       "    </tr>\n",
       "  </thead>\n",
       "  <tbody>\n",
       "    <tr>\n",
       "      <th>384</th>\n",
       "      <td>1389</td>\n",
       "      <td>Jaws 3-D (1983)</td>\n",
       "      <td>1.000000</td>\n",
       "    </tr>\n",
       "    <tr>\n",
       "      <th>1028</th>\n",
       "      <td>6502</td>\n",
       "      <td>28 Days Later (2002)</td>\n",
       "      <td>0.400000</td>\n",
       "    </tr>\n",
       "    <tr>\n",
       "      <th>516</th>\n",
       "      <td>2167</td>\n",
       "      <td>Blade (1998)</td>\n",
       "      <td>0.400000</td>\n",
       "    </tr>\n",
       "    <tr>\n",
       "      <th>1320</th>\n",
       "      <td>34323</td>\n",
       "      <td>Devil's Rejects, The (2005)</td>\n",
       "      <td>0.400000</td>\n",
       "    </tr>\n",
       "    <tr>\n",
       "      <th>891</th>\n",
       "      <td>5254</td>\n",
       "      <td>Blade II (2002)</td>\n",
       "      <td>0.333333</td>\n",
       "    </tr>\n",
       "  </tbody>\n",
       "</table>\n",
       "</div>"
      ],
      "text/plain": [
       "      movieId                        title         8\n",
       "384      1389              Jaws 3-D (1983)  1.000000\n",
       "1028     6502         28 Days Later (2002)  0.400000\n",
       "516      2167                 Blade (1998)  0.400000\n",
       "1320    34323  Devil's Rejects, The (2005)  0.400000\n",
       "891      5254              Blade II (2002)  0.333333"
      ]
     },
     "execution_count": 34,
     "metadata": {},
     "output_type": "execute_result"
    }
   ],
   "source": [
    "# 8번째 기준으로 뽑되 유사도 1인 것은 같은 영화이기 때문에 제외\n",
    "print(movie_5.iloc[8]['title'])\n",
    "meta.sort_values(by=[8], axis=0, ascending=False).iloc[1:6,:][['movieId', 'title', 8]]"
   ]
  },
  {
   "cell_type": "code",
   "execution_count": 35,
   "id": "f5c097e8",
   "metadata": {},
   "outputs": [
    {
     "name": "stdout",
     "output_type": "stream",
     "text": [
      "WarGames (1983)\n"
     ]
    },
    {
     "data": {
      "text/html": [
       "<div>\n",
       "<style scoped>\n",
       "    .dataframe tbody tr th:only-of-type {\n",
       "        vertical-align: middle;\n",
       "    }\n",
       "\n",
       "    .dataframe tbody tr th {\n",
       "        vertical-align: top;\n",
       "    }\n",
       "\n",
       "    .dataframe thead th {\n",
       "        text-align: right;\n",
       "    }\n",
       "</style>\n",
       "<table border=\"1\" class=\"dataframe\">\n",
       "  <thead>\n",
       "    <tr style=\"text-align: right;\">\n",
       "      <th></th>\n",
       "      <th>movieId</th>\n",
       "      <th>title</th>\n",
       "      <th>9</th>\n",
       "    </tr>\n",
       "  </thead>\n",
       "  <tbody>\n",
       "    <tr>\n",
       "      <th>328</th>\n",
       "      <td>1253</td>\n",
       "      <td>Day the Earth Stood Still, The (1951)</td>\n",
       "      <td>0.600000</td>\n",
       "    </tr>\n",
       "    <tr>\n",
       "      <th>295</th>\n",
       "      <td>1206</td>\n",
       "      <td>Clockwork Orange, A (1971)</td>\n",
       "      <td>0.500000</td>\n",
       "    </tr>\n",
       "    <tr>\n",
       "      <th>420</th>\n",
       "      <td>1653</td>\n",
       "      <td>Gattaca (1997)</td>\n",
       "      <td>0.428571</td>\n",
       "    </tr>\n",
       "    <tr>\n",
       "      <th>1461</th>\n",
       "      <td>91500</td>\n",
       "      <td>The Hunger Games (2012)</td>\n",
       "      <td>0.428571</td>\n",
       "    </tr>\n",
       "    <tr>\n",
       "      <th>173</th>\n",
       "      <td>805</td>\n",
       "      <td>Time to Kill, A (1996)</td>\n",
       "      <td>0.400000</td>\n",
       "    </tr>\n",
       "  </tbody>\n",
       "</table>\n",
       "</div>"
      ],
      "text/plain": [
       "      movieId                                  title         9\n",
       "328      1253  Day the Earth Stood Still, The (1951)  0.600000\n",
       "295      1206             Clockwork Orange, A (1971)  0.500000\n",
       "420      1653                         Gattaca (1997)  0.428571\n",
       "1461    91500                The Hunger Games (2012)  0.428571\n",
       "173       805                 Time to Kill, A (1996)  0.400000"
      ]
     },
     "execution_count": 35,
     "metadata": {},
     "output_type": "execute_result"
    }
   ],
   "source": [
    "# 9번째 기준으로 뽑되 유사도 1인 것은 같은 영화이기 때문에 제외\n",
    "print(movie_5.iloc[9]['title'])\n",
    "meta.sort_values(by=[9], axis=0, ascending=False).iloc[1:6,:][['movieId', 'title', 9]]"
   ]
  },
  {
   "cell_type": "code",
   "execution_count": 36,
   "id": "90dc1ee7",
   "metadata": {},
   "outputs": [
    {
     "name": "stdout",
     "output_type": "stream",
     "text": [
      "Social Network, The (2010)\n"
     ]
    },
    {
     "data": {
      "text/html": [
       "<div>\n",
       "<style scoped>\n",
       "    .dataframe tbody tr th:only-of-type {\n",
       "        vertical-align: middle;\n",
       "    }\n",
       "\n",
       "    .dataframe tbody tr th {\n",
       "        vertical-align: top;\n",
       "    }\n",
       "\n",
       "    .dataframe thead th {\n",
       "        text-align: right;\n",
       "    }\n",
       "</style>\n",
       "<table border=\"1\" class=\"dataframe\">\n",
       "  <thead>\n",
       "    <tr style=\"text-align: right;\">\n",
       "      <th></th>\n",
       "      <th>movieId</th>\n",
       "      <th>title</th>\n",
       "      <th>10</th>\n",
       "    </tr>\n",
       "  </thead>\n",
       "  <tbody>\n",
       "    <tr>\n",
       "      <th>1543</th>\n",
       "      <td>148626</td>\n",
       "      <td>Big Short, The (2015)</td>\n",
       "      <td>0.333333</td>\n",
       "    </tr>\n",
       "    <tr>\n",
       "      <th>1098</th>\n",
       "      <td>6981</td>\n",
       "      <td>Ordet (Word, The) (1955)</td>\n",
       "      <td>0.200000</td>\n",
       "    </tr>\n",
       "    <tr>\n",
       "      <th>158</th>\n",
       "      <td>670</td>\n",
       "      <td>World of Apu, The (Apur Sansar) (1959)</td>\n",
       "      <td>0.200000</td>\n",
       "    </tr>\n",
       "    <tr>\n",
       "      <th>1157</th>\n",
       "      <td>7479</td>\n",
       "      <td>Watch on the Rhine (1943)</td>\n",
       "      <td>0.200000</td>\n",
       "    </tr>\n",
       "    <tr>\n",
       "      <th>1506</th>\n",
       "      <td>113705</td>\n",
       "      <td>Two Days, One Night (Deux jours, une nuit) (2014)</td>\n",
       "      <td>0.200000</td>\n",
       "    </tr>\n",
       "  </tbody>\n",
       "</table>\n",
       "</div>"
      ],
      "text/plain": [
       "      movieId                                              title        10\n",
       "1543   148626                              Big Short, The (2015)  0.333333\n",
       "1098     6981                           Ordet (Word, The) (1955)  0.200000\n",
       "158       670             World of Apu, The (Apur Sansar) (1959)  0.200000\n",
       "1157     7479                          Watch on the Rhine (1943)  0.200000\n",
       "1506   113705  Two Days, One Night (Deux jours, une nuit) (2014)  0.200000"
      ]
     },
     "execution_count": 36,
     "metadata": {},
     "output_type": "execute_result"
    }
   ],
   "source": [
    "# 10번째 기준으로 뽑되 유사도 1인 것은 같은 영화이기 때문에 제외\n",
    "print(movie_5.iloc[10]['title'])\n",
    "meta.sort_values(by=[10], axis=0, ascending=False).iloc[1:6,:][['movieId', 'title', 10]]"
   ]
  },
  {
   "cell_type": "markdown",
   "id": "690e9fa4",
   "metadata": {},
   "source": [
    "### Task 4. 영화 클러스터링하기 (k-means clustering)"
   ]
  },
  {
   "cell_type": "markdown",
   "id": "e9bf6bc5",
   "metadata": {},
   "source": [
    "- Task 4-1. cosine similarity를 기준으로 영화 벡터 (P혹은 Q)에서 k-means clustering\n",
    "구하기 (k=1, ..., 40 까지 바꿔가면서 cost 값을 계산)"
   ]
  },
  {
   "cell_type": "code",
   "execution_count": 37,
   "id": "1e35468d",
   "metadata": {},
   "outputs": [],
   "source": [
    "P_ratings = P.detach().numpy()"
   ]
  },
  {
   "cell_type": "code",
   "execution_count": 38,
   "id": "c98e9d3d",
   "metadata": {},
   "outputs": [],
   "source": [
    "# ratings에 한번이라도 등장한 영화만 추리기\n",
    "ratings_set = set(ratings['movieId'])\n",
    "P_ratings = pd.DataFrame(P_ratings).reset_index().query('index in @ratings_set').drop('index', axis=1)\n",
    "# array로 변경해줌\n",
    "P_ratings = np.array(P_ratings.astype(float))\n",
    "\n",
    "# array로 변경해줌\n",
    "Q_ratings = Q.detach().numpy()"
   ]
  },
  {
   "cell_type": "code",
   "execution_count": 39,
   "id": "56983dde",
   "metadata": {},
   "outputs": [],
   "source": [
    "# sklearn module 중에 코사인 유사도를 통해 kmeans해주는 모듈이 있음"
   ]
  },
  {
   "cell_type": "code",
   "execution_count": 40,
   "id": "4afea911",
   "metadata": {},
   "outputs": [],
   "source": [
    "X = []\n",
    "Y = []\n",
    "for i in range(2,41):\n",
    "    X.append(i)\n",
    "    spherical_kmeans = SphericalKMeans(n_clusters=i)\n",
    "\n",
    "    spherical_kmeans.fit(csr_matrix(P_ratings))    \n",
    "    Y.append(spherical_kmeans.inertia_)"
   ]
  },
  {
   "cell_type": "markdown",
   "id": "3993c90e",
   "metadata": {},
   "source": [
    "- Task 4-2. Task 4-1에서 구한 결과를 matplotlib를 활용하여 그래프로 그린 후 가장 적절해\n",
    "보이는 k값 선택하기"
   ]
  },
  {
   "cell_type": "code",
   "execution_count": 41,
   "id": "11923aa3",
   "metadata": {
    "scrolled": true
   },
   "outputs": [
    {
     "data": {
      "image/png": "[encoded data removed]",
      "text/plain": [
       "<Figure size 432x288 with 1 Axes>"
      ]
     },
     "metadata": {
      "needs_background": "light"
     },
     "output_type": "display_data"
    }
   ],
   "source": [
    "# 그래프를 그림\n",
    "plt.plot(X,Y)\n",
    "plt.show()"
   ]
  },
  {
   "cell_type": "code",
   "execution_count": 42,
   "id": "d4e7b58a",
   "metadata": {},
   "outputs": [
    {
     "data": {
      "text/plain": [
       "<soyclustering._kmeans.SphericalKMeans at 0x21e328db6d0>"
      ]
     },
     "execution_count": 42,
     "metadata": {},
     "output_type": "execute_result"
    }
   ],
   "source": [
    "# 적절한 k=15\n",
    "spherical_kmeans = SphericalKMeans(n_clusters=15)\n",
    "spherical_kmeans.fit(csr_matrix(P_ratings))"
   ]
  },
  {
   "cell_type": "markdown",
   "id": "6e350d0c",
   "metadata": {},
   "source": [
    "- Task 4-3. 122912번 영화(Avengers: Infinity War - Part I)와 같은 cluster에 속한 다른 영화\n",
    "중 cosine similarity가 가장 높은 영화 20개를 찾아서 id, 영화 이름, 유사도 점수 출력하기"
   ]
  },
  {
   "cell_type": "code",
   "execution_count": 43,
   "id": "f897fa24",
   "metadata": {},
   "outputs": [
    {
     "data": {
      "text/plain": [
       "8342"
      ]
     },
     "execution_count": 43,
     "metadata": {},
     "output_type": "execute_result"
    }
   ],
   "source": [
    "# 122912영화가 위에서 만든 cos_data기준으로 인덱스가 얼마인지 확인\n",
    "list(ratings_set).index(122912)"
   ]
  },
  {
   "cell_type": "code",
   "execution_count": 44,
   "id": "9d06dffa",
   "metadata": {},
   "outputs": [
    {
     "data": {
      "text/plain": [
       "5.0"
      ]
     },
     "execution_count": 44,
     "metadata": {},
     "output_type": "execute_result"
    }
   ],
   "source": [
    "# 라벨을 확인하기 위하여 데이터프레임으로 변경해줌\n",
    "df_labels = pd.DataFrame(P_ratings)\n",
    "df_labels['labels'] = pd.Series(spherical_kmeans.labels_)\n",
    "\n",
    "# 122912영화의 라벨은 5\n",
    "label_122912 = df_labels.iloc[8342,:]['labels'];label_122912"
   ]
  },
  {
   "cell_type": "code",
   "execution_count": 45,
   "id": "3ba3ca78",
   "metadata": {},
   "outputs": [],
   "source": [
    "# 동일한 라벨 뽑아서 데이터프레임으로 생성\n",
    "df_t = df_labels.query('labels == @label_122912').drop('labels', axis=1) # 이제 labels도 필요없으니 제거\n",
    "\n",
    "df_cos_sim = cosine_similarity(df_t,df_t)\n",
    "# 영화 찾기 쉽게 인덱스를 위와 맞춰줌, 열이름도 맞춰줌\n",
    "df_cos_sim = pd.DataFrame(df_cos_sim).set_index(df_t.reset_index()['index'], inplace=False, drop=True)\n",
    "df_cos_sim.columns = list(df_t.reset_index()['index'])"
   ]
  },
  {
   "cell_type": "code",
   "execution_count": 46,
   "id": "ef4029f1",
   "metadata": {},
   "outputs": [],
   "source": [
    "# top20 개의 영화를 뽑아 ratings_set에 적용하여 movieId를 뽑음\n",
    "top_20 = df_cos_sim.loc[8342].sort_values(ascending = False)[1:21].reset_index()\n",
    "top_20['movieId'] = top_20['index'].apply(lambda x: list(ratings_set)[x])\n",
    "# 사용하기 쉽게 변환\n",
    "top_20 = top_20[['movieId', 8342]]\n",
    "top_20.columns = ['movieId','cos_sim']"
   ]
  },
  {
   "cell_type": "code",
   "execution_count": 47,
   "id": "b0d70d08",
   "metadata": {},
   "outputs": [
    {
     "data": {
      "text/html": [
       "<div>\n",
       "<style scoped>\n",
       "    .dataframe tbody tr th:only-of-type {\n",
       "        vertical-align: middle;\n",
       "    }\n",
       "\n",
       "    .dataframe tbody tr th {\n",
       "        vertical-align: top;\n",
       "    }\n",
       "\n",
       "    .dataframe thead th {\n",
       "        text-align: right;\n",
       "    }\n",
       "</style>\n",
       "<table border=\"1\" class=\"dataframe\">\n",
       "  <thead>\n",
       "    <tr style=\"text-align: right;\">\n",
       "      <th></th>\n",
       "      <th>movieId</th>\n",
       "      <th>title</th>\n",
       "      <th>cos_sim</th>\n",
       "    </tr>\n",
       "  </thead>\n",
       "  <tbody>\n",
       "    <tr>\n",
       "      <th>14</th>\n",
       "      <td>97188</td>\n",
       "      <td>Sinister (2012)</td>\n",
       "      <td>1.0</td>\n",
       "    </tr>\n",
       "    <tr>\n",
       "      <th>17</th>\n",
       "      <td>126430</td>\n",
       "      <td>The Pacific (2010)</td>\n",
       "      <td>1.0</td>\n",
       "    </tr>\n",
       "    <tr>\n",
       "      <th>12</th>\n",
       "      <td>82744</td>\n",
       "      <td>Faster (2010)</td>\n",
       "      <td>1.0</td>\n",
       "    </tr>\n",
       "    <tr>\n",
       "      <th>1</th>\n",
       "      <td>27176</td>\n",
       "      <td>Style Wars (1983)</td>\n",
       "      <td>1.0</td>\n",
       "    </tr>\n",
       "    <tr>\n",
       "      <th>7</th>\n",
       "      <td>55294</td>\n",
       "      <td>Weirdsville (2007)</td>\n",
       "      <td>1.0</td>\n",
       "    </tr>\n",
       "    <tr>\n",
       "      <th>2</th>\n",
       "      <td>27193</td>\n",
       "      <td>Taxi 2 (2000)</td>\n",
       "      <td>1.0</td>\n",
       "    </tr>\n",
       "    <tr>\n",
       "      <th>4</th>\n",
       "      <td>27846</td>\n",
       "      <td>Corporation, The (2003)</td>\n",
       "      <td>1.0</td>\n",
       "    </tr>\n",
       "    <tr>\n",
       "      <th>6</th>\n",
       "      <td>31685</td>\n",
       "      <td>Hitch (2005)</td>\n",
       "      <td>1.0</td>\n",
       "    </tr>\n",
       "    <tr>\n",
       "      <th>5</th>\n",
       "      <td>31433</td>\n",
       "      <td>Wedding Date, The (2005)</td>\n",
       "      <td>1.0</td>\n",
       "    </tr>\n",
       "    <tr>\n",
       "      <th>16</th>\n",
       "      <td>120635</td>\n",
       "      <td>Taken 3 (2015)</td>\n",
       "      <td>1.0</td>\n",
       "    </tr>\n",
       "    <tr>\n",
       "      <th>8</th>\n",
       "      <td>59995</td>\n",
       "      <td>Boy A (2007)</td>\n",
       "      <td>1.0</td>\n",
       "    </tr>\n",
       "    <tr>\n",
       "      <th>10</th>\n",
       "      <td>75803</td>\n",
       "      <td>Our Family Wedding (2010)</td>\n",
       "      <td>1.0</td>\n",
       "    </tr>\n",
       "    <tr>\n",
       "      <th>18</th>\n",
       "      <td>128736</td>\n",
       "      <td>I'm Here (2010)</td>\n",
       "      <td>1.0</td>\n",
       "    </tr>\n",
       "    <tr>\n",
       "      <th>9</th>\n",
       "      <td>63179</td>\n",
       "      <td>Tokyo! (2008)</td>\n",
       "      <td>1.0</td>\n",
       "    </tr>\n",
       "    <tr>\n",
       "      <th>19</th>\n",
       "      <td>139052</td>\n",
       "      <td>Dark Places (2015)</td>\n",
       "      <td>1.0</td>\n",
       "    </tr>\n",
       "    <tr>\n",
       "      <th>15</th>\n",
       "      <td>115667</td>\n",
       "      <td>Love, Rosie (2014)</td>\n",
       "      <td>1.0</td>\n",
       "    </tr>\n",
       "    <tr>\n",
       "      <th>3</th>\n",
       "      <td>27523</td>\n",
       "      <td>My Sassy Girl (Yeopgijeogin geunyeo) (2001)</td>\n",
       "      <td>1.0</td>\n",
       "    </tr>\n",
       "    <tr>\n",
       "      <th>11</th>\n",
       "      <td>80880</td>\n",
       "      <td>Stone (2010)</td>\n",
       "      <td>1.0</td>\n",
       "    </tr>\n",
       "    <tr>\n",
       "      <th>13</th>\n",
       "      <td>94015</td>\n",
       "      <td>Mirror Mirror (2012)</td>\n",
       "      <td>1.0</td>\n",
       "    </tr>\n",
       "    <tr>\n",
       "      <th>0</th>\n",
       "      <td>6571</td>\n",
       "      <td>Mondays in the Sun (Lunes al sol, Los) (2002)</td>\n",
       "      <td>1.0</td>\n",
       "    </tr>\n",
       "  </tbody>\n",
       "</table>\n",
       "</div>"
      ],
      "text/plain": [
       "    movieId                                          title  cos_sim\n",
       "14    97188                                Sinister (2012)      1.0\n",
       "17   126430                             The Pacific (2010)      1.0\n",
       "12    82744                                  Faster (2010)      1.0\n",
       "1     27176                              Style Wars (1983)      1.0\n",
       "7     55294                             Weirdsville (2007)      1.0\n",
       "2     27193                                  Taxi 2 (2000)      1.0\n",
       "4     27846                        Corporation, The (2003)      1.0\n",
       "6     31685                                   Hitch (2005)      1.0\n",
       "5     31433                       Wedding Date, The (2005)      1.0\n",
       "16   120635                                 Taken 3 (2015)      1.0\n",
       "8     59995                                   Boy A (2007)      1.0\n",
       "10    75803                      Our Family Wedding (2010)      1.0\n",
       "18   128736                                I'm Here (2010)      1.0\n",
       "9     63179                                  Tokyo! (2008)      1.0\n",
       "19   139052                             Dark Places (2015)      1.0\n",
       "15   115667                             Love, Rosie (2014)      1.0\n",
       "3     27523    My Sassy Girl (Yeopgijeogin geunyeo) (2001)      1.0\n",
       "11    80880                                   Stone (2010)      1.0\n",
       "13    94015                           Mirror Mirror (2012)      1.0\n",
       "0      6571  Mondays in the Sun (Lunes al sol, Los) (2002)      1.0"
      ]
     },
     "execution_count": 47,
     "metadata": {},
     "output_type": "execute_result"
    }
   ],
   "source": [
    "df_top_20 = pd.merge(movies,top_20, on='movieId', how='inner').sort_values(by=['cos_sim'], axis=0, ascending=False)[['movieId', 'title', 'cos_sim']];df_top_20"
   ]
  },
  {
   "cell_type": "markdown",
   "id": "cf758a1c",
   "metadata": {},
   "source": [
    "### Task 5. 차원 축소 및 시각화 (PCA)"
   ]
  },
  {
   "cell_type": "markdown",
   "id": "b32181d2",
   "metadata": {},
   "source": [
    "- Task 5-1. P 행렬와 Q 행렬을 합쳐 Z행렬 만들기"
   ]
  },
  {
   "cell_type": "code",
   "execution_count": 48,
   "id": "f5dd1cd7",
   "metadata": {},
   "outputs": [],
   "source": [
    "Z = torch.cat([torch.tensor(P_ratings),torch.tensor(Q_ratings)],axis=0)"
   ]
  },
  {
   "cell_type": "markdown",
   "id": "00ff96f6",
   "metadata": {},
   "source": [
    "- Task 5-2. Z 행렬에서 PCA 수행하여 2차원 데이터로 줄인 Zp 만들기"
   ]
  },
  {
   "cell_type": "code",
   "execution_count": 49,
   "id": "dad0c534",
   "metadata": {},
   "outputs": [],
   "source": [
    "# 중심 옮기기\n",
    "Z = (Z-torch.mean(Z, axis=0))"
   ]
  },
  {
   "cell_type": "code",
   "execution_count": 50,
   "id": "2f603b84",
   "metadata": {},
   "outputs": [
    {
     "data": {
      "text/html": [
       "<div>\n",
       "<style scoped>\n",
       "    .dataframe tbody tr th:only-of-type {\n",
       "        vertical-align: middle;\n",
       "    }\n",
       "\n",
       "    .dataframe tbody tr th {\n",
       "        vertical-align: top;\n",
       "    }\n",
       "\n",
       "    .dataframe thead th {\n",
       "        text-align: right;\n",
       "    }\n",
       "</style>\n",
       "<table border=\"1\" class=\"dataframe\">\n",
       "  <thead>\n",
       "    <tr style=\"text-align: right;\">\n",
       "      <th></th>\n",
       "      <th>PCA 1</th>\n",
       "      <th>PCA 2</th>\n",
       "    </tr>\n",
       "  </thead>\n",
       "  <tbody>\n",
       "    <tr>\n",
       "      <th>0</th>\n",
       "      <td>0.110636</td>\n",
       "      <td>0.294148</td>\n",
       "    </tr>\n",
       "    <tr>\n",
       "      <th>1</th>\n",
       "      <td>-0.073755</td>\n",
       "      <td>0.000762</td>\n",
       "    </tr>\n",
       "    <tr>\n",
       "      <th>2</th>\n",
       "      <td>0.014770</td>\n",
       "      <td>-0.032725</td>\n",
       "    </tr>\n",
       "    <tr>\n",
       "      <th>3</th>\n",
       "      <td>-0.021864</td>\n",
       "      <td>-0.008793</td>\n",
       "    </tr>\n",
       "    <tr>\n",
       "      <th>4</th>\n",
       "      <td>-0.162533</td>\n",
       "      <td>0.033885</td>\n",
       "    </tr>\n",
       "  </tbody>\n",
       "</table>\n",
       "</div>"
      ],
      "text/plain": [
       "      PCA 1     PCA 2\n",
       "0  0.110636  0.294148\n",
       "1 -0.073755  0.000762\n",
       "2  0.014770 -0.032725\n",
       "3 -0.021864 -0.008793\n",
       "4 -0.162533  0.033885"
      ]
     },
     "execution_count": 50,
     "metadata": {},
     "output_type": "execute_result"
    }
   ],
   "source": [
    "pca = PCA(n_components=2)\n",
    "Zp = pca.fit_transform(Z)\n",
    "Zp = pd.DataFrame(data=Zp, columns = ['PCA 1', 'PCA 2'])\n",
    "Zp.head()"
   ]
  },
  {
   "cell_type": "code",
   "execution_count": 51,
   "id": "b41f659a",
   "metadata": {},
   "outputs": [],
   "source": [
    "Zp['labels'] =  pd.Series(spherical_kmeans.labels_)"
   ]
  },
  {
   "cell_type": "code",
   "execution_count": 52,
   "id": "16ff089d",
   "metadata": {},
   "outputs": [],
   "source": [
    "# 3-1의 데이터\n",
    "P_3_1_index = list(df_3_1.reset_index()['index'])"
   ]
  },
  {
   "cell_type": "code",
   "execution_count": 53,
   "id": "bdf127b0",
   "metadata": {},
   "outputs": [],
   "source": [
    "# P중 3-1을 제외한 P의 결과\n",
    "Zp_P = Zp.iloc[:9724,:].drop(P_3_1_index, axis=0)\n",
    "\n",
    "# P중 3-1의 결과\n",
    "Zp_3_1 = Zp.iloc[P_3_1_index]\n",
    "\n",
    "# Q의 결과\n",
    "Zp_Q = Zp.iloc[9724:,:]"
   ]
  },
  {
   "cell_type": "markdown",
   "id": "ef55b65a",
   "metadata": {},
   "source": [
    "- Task 5-3. matplotlib을 활용하여 Zp의 scatter plot 그리기"
   ]
  },
  {
   "cell_type": "code",
   "execution_count": 54,
   "id": "0e2ded46",
   "metadata": {},
   "outputs": [
    {
     "data": {
      "image/png": "[encoded data removed]",
      "text/plain": [
       "<Figure size 432x288 with 1 Axes>"
      ]
     },
     "metadata": {
      "needs_background": "light"
     },
     "output_type": "display_data"
    }
   ],
   "source": [
    "# 5-3-1 Q그리기\n",
    "plt.scatter(Zp_Q[\"PCA 1\"], Zp_Q[\"PCA 2\"],s=5,c='r', label='Q')\n",
    "# 5-3-1 P중에서 3-1을 제외한 \n",
    "plt.scatter(Zp_P[\"PCA 1\"], Zp_P[\"PCA 2\"],s=5, c=[i for i in Zp_P['labels']], label='P,5-3-3') # 5-3-3\n",
    "# 5-3-2 P중 3-1만\n",
    "plt.scatter(Zp_3_1[\"PCA 1\"], Zp_3_1[\"PCA 2\"],s=5,c='g', label='task 5-3-2')\n",
    "plt.legend()\n",
    "\n",
    "plt.show()"
   ]
  },
  {
   "cell_type": "markdown",
   "id": "5d8a7649",
   "metadata": {},
   "source": [
    "## END"
   ]
  }
 ],
 "metadata": {
  "kernelspec": {
   "display_name": "DL",
   "language": "python",
   "name": "dl"
  },
  "language_info": {
   "codemirror_mode": {
    "name": "ipython",
    "version": 3
   },
   "file_extension": ".py",
   "mimetype": "text/x-python",
   "name": "python",
   "nbconvert_exporter": "python",
   "pygments_lexer": "ipython3",
   "version": "3.8.11"
  }
 },
 "nbformat": 4,
 "nbformat_minor": 5
}
