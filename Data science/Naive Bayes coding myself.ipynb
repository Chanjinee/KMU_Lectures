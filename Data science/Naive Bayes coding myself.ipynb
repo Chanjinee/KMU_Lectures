{
 "cells": [
  {
   "cell_type": "markdown",
   "metadata": {},
   "source": [
    "### data 받아오기, zip풀기"
   ]
  },
  {
   "cell_type": "markdown",
   "metadata": {},
   "source": [
    "- 모듈 불러오기"
   ]
  },
  {
   "cell_type": "code",
   "execution_count": 1,
   "metadata": {
    "id": "v302hyDdXujL"
   },
   "outputs": [],
   "source": [
    "import requests\n",
    "import zipfile\n",
    "import re\n",
    "import random\n",
    "import math\n",
    "from collections import Counter"
   ]
  },
  {
   "cell_type": "markdown",
   "metadata": {},
   "source": [
    "-  데이터 다운로드, 압축풀기"
   ]
  },
  {
   "cell_type": "code",
   "execution_count": 2,
   "metadata": {
    "id": "FDaBLPnkX0zN"
   },
   "outputs": [],
   "source": [
    "r = requests.get(\"https://www.dt.fee.unicamp.br/~tiago/smsspamcollection/smsspamcollection.zip\")\n",
    "with open(\"spam.zip\", \"wb\") as f:\n",
    "    f.write(r.content)\n",
    "#사용방법\n",
    "zipfile.ZipFile(\"spam.zip\").extractall(\"./\")"
   ]
  },
  {
   "cell_type": "markdown",
   "metadata": {},
   "source": [
    "- data loading"
   ]
  },
  {
   "cell_type": "code",
   "execution_count": 3,
   "metadata": {
    "collapsed": true,
    "id": "WkABR8BqX3iU"
   },
   "outputs": [
    {
     "ename": "UnicodeDecodeError",
     "evalue": "'cp949' codec can't decode byte 0xe2 in position 2363: illegal multibyte sequence",
     "output_type": "error",
     "traceback": [
      "\u001b[1;31m---------------------------------------------------------------------------\u001b[0m",
      "\u001b[1;31mUnicodeDecodeError\u001b[0m                        Traceback (most recent call last)",
      "\u001b[1;32m<ipython-input-3-0d6f04f12d01>\u001b[0m in \u001b[0;36m<module>\u001b[1;34m\u001b[0m\n\u001b[0;32m      1\u001b[0m \u001b[0mdata\u001b[0m \u001b[1;33m=\u001b[0m \u001b[1;33m[\u001b[0m\u001b[1;33m]\u001b[0m\u001b[1;33m\u001b[0m\u001b[1;33m\u001b[0m\u001b[0m\n\u001b[0;32m      2\u001b[0m \u001b[1;32mwith\u001b[0m \u001b[0mopen\u001b[0m\u001b[1;33m(\u001b[0m\u001b[1;34m\"SMSSpamCollection.txt\"\u001b[0m\u001b[1;33m,\u001b[0m \u001b[1;34m\"r\"\u001b[0m\u001b[1;33m)\u001b[0m \u001b[1;32mas\u001b[0m \u001b[0mf\u001b[0m\u001b[1;33m:\u001b[0m\u001b[1;33m\u001b[0m\u001b[1;33m\u001b[0m\u001b[0m\n\u001b[1;32m----> 3\u001b[1;33m     \u001b[1;32mfor\u001b[0m \u001b[0mline\u001b[0m \u001b[1;32min\u001b[0m \u001b[0mf\u001b[0m\u001b[1;33m:\u001b[0m\u001b[1;33m\u001b[0m\u001b[1;33m\u001b[0m\u001b[0m\n\u001b[0m\u001b[0;32m      4\u001b[0m         \u001b[0mcls\u001b[0m\u001b[1;33m,\u001b[0m \u001b[0mtxt\u001b[0m \u001b[1;33m=\u001b[0m \u001b[0mline\u001b[0m\u001b[1;33m.\u001b[0m\u001b[0mstrip\u001b[0m\u001b[1;33m(\u001b[0m\u001b[1;33m)\u001b[0m\u001b[1;33m.\u001b[0m\u001b[0msplit\u001b[0m\u001b[1;33m(\u001b[0m\u001b[1;34m\"\\t\"\u001b[0m\u001b[1;33m)\u001b[0m\u001b[1;33m\u001b[0m\u001b[1;33m\u001b[0m\u001b[0m\n\u001b[0;32m      5\u001b[0m         \u001b[0mtxt\u001b[0m\u001b[1;33m.\u001b[0m\u001b[0mlower\u001b[0m\u001b[1;33m(\u001b[0m\u001b[1;33m)\u001b[0m\u001b[1;33m\u001b[0m\u001b[1;33m\u001b[0m\u001b[0m\n",
      "\u001b[1;31mUnicodeDecodeError\u001b[0m: 'cp949' codec can't decode byte 0xe2 in position 2363: illegal multibyte sequence"
     ]
    }
   ],
   "source": [
    "data = []\n",
    "with open(\"SMSSpamCollection.txt\", \"r\") as f:\n",
    "    for line in f:\n",
    "        cls, txt = line.strip().split(\"\\t\")\n",
    "        txt.lower()\n",
    "        bow = set(re.findall(\"[0-9a-z_]+\", txt.lower()))\n",
    "        data.append([cls, bow])"
   ]
  },
  {
   "cell_type": "markdown",
   "metadata": {},
   "source": [
    "- 데이터 나누기"
   ]
  },
  {
   "cell_type": "code",
   "execution_count": null,
   "metadata": {
    "id": "KpM7YHXIY-MG"
   },
   "outputs": [],
   "source": [
    "random.shuffle(data)\n",
    "train_size = int(len(data)*0.8)\n",
    "test_size = len(data) - train_size\n",
    "train = data[:train_size]\n",
    "test = data[train_size:]\n",
    "\n",
    "train_spam = [bow for cls, bow in train if cls == 'spam']\n",
    "train_ham = [bow for cls, bow in train if cls == 'ham']"
   ]
  },
  {
   "cell_type": "markdown",
   "metadata": {},
   "source": [
    "### 값 계산"
   ]
  },
  {
   "cell_type": "code",
   "execution_count": null,
   "metadata": {
    "id": "qLlQiVLOX4ec"
   },
   "outputs": [],
   "source": [
    "# train 데이터에서 naive bayes 계산을 위한 값들을 미리 다 계산해놓기\n",
    "prior_spam = math.log(len(train_spam) / len(train))\n",
    "prior_ham = math.log(len(train_ham) / len(train))"
   ]
  },
  {
   "cell_type": "code",
   "execution_count": null,
   "metadata": {
    "id": "SxJuXVDGZ_fM"
   },
   "outputs": [],
   "source": [
    "# 단어 w의 spam일 가능도 = P(w|spam) = log((w를 포함하는 스팸수 + a)/ (스팸수 + a))\n",
    "spam_words = Counter(word for bow in train_spam for word in bow)\n",
    "ham_words = Counter(word for bow in train_ham for word in bow)"
   ]
  },
  {
   "cell_type": "code",
   "execution_count": null,
   "metadata": {
    "id": "GWB_D-AdaG0i"
   },
   "outputs": [],
   "source": [
    "# naive bayes 방법에 따라 spam/ham 점수를 구하여 비교, 라플라스 스무딩 적용, 로그 합산\n",
    "def predict(bow, spam_words, ham_words, n_spams, n_hams, alpha):\n",
    "    spam_score = prior_spam + \\\n",
    "        sum( math.log((spam_words[word] + alpha)/(n_spams + alpha)) for word in bow)\n",
    "    ham_score = prior_ham + \\\n",
    "        sum( math.log((ham_words[word] + alpha)/(n_hams + alpha)) for word in bow)\n",
    "\n",
    "    if spam_score < ham_score: return 'ham'\n",
    "    else: return 'spam'"
   ]
  },
  {
   "cell_type": "markdown",
   "metadata": {},
   "source": [
    "### test"
   ]
  },
  {
   "cell_type": "code",
   "execution_count": null,
   "metadata": {
    "id": "MJ66kJC2aep5"
   },
   "outputs": [],
   "source": [
    "# 잘 맞추는지 확인\n",
    "tp, tn, fp, fn = 0, 0, 0, 0\n",
    "for cls, bow in test:\n",
    "    pred = predict(bow, spam_words, ham_words, len(train_spam), len(train_ham), 1e-4)\n",
    "    if cls == 'spam' and pred == 'spam': tp += 1\n",
    "    elif cls == 'ham' and pred == 'ham': tn += 1\n",
    "    elif cls == 'ham' and pred == 'spam': fp += 1\n",
    "    else: fn += 1"
   ]
  },
  {
   "cell_type": "code",
   "execution_count": null,
   "metadata": {
    "colab": {
     "base_uri": "https://localhost:8080/"
    },
    "id": "Vff8Rb6yal9e",
    "outputId": "1dd09240-d88d-41a8-8a9c-1b59494b8b06"
   },
   "outputs": [],
   "source": [
    "# 테스트해보기 (confusion matrix)\n",
    "accuracy = (tp + tn) / (tp + tn + fp + fn)\n",
    "precision = tp / (tp + fp)\n",
    "recall = tp / (tp + fn)\n",
    "f1 = 2 * precision * recall / (precision + recall)\n",
    "\n",
    "print(f' accuracy: {accuracy}\\n precision: {precision}\\n recall: {recall}\\n f1 {f1}')"
   ]
  },
  {
   "cell_type": "markdown",
   "metadata": {},
   "source": [
    "### END"
   ]
  }
 ],
 "metadata": {
  "colab": {
   "name": "백찬진_20172834_과제9.ipynb",
   "provenance": []
  },
  "kernelspec": {
   "display_name": "Python 3",
   "language": "python",
   "name": "python3"
  },
  "language_info": {
   "codemirror_mode": {
    "name": "ipython",
    "version": 3
   },
   "file_extension": ".py",
   "mimetype": "text/x-python",
   "name": "python",
   "nbconvert_exporter": "python",
   "pygments_lexer": "ipython3",
   "version": "3.8.8"
  }
 },
 "nbformat": 4,
 "nbformat_minor": 1
}
