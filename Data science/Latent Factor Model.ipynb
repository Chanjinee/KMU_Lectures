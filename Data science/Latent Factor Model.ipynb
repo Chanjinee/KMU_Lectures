{
 "cells": [
  {
   "cell_type": "code",
   "execution_count": 3,
   "metadata": {
    "colab": {
     "base_uri": "https://localhost:8080/"
    },
    "id": "lTu1ECHkyBAu",
    "outputId": "aafae66d-2821-46a3-b331-a38bd4c0669b"
   },
   "outputs": [],
   "source": [
    "# from google.colab import drive\n",
    "# drive.mount('/content/gdrive')"
   ]
  },
  {
   "cell_type": "code",
   "execution_count": null,
   "metadata": {
    "colab": {
     "base_uri": "https://localhost:8080/"
    },
    "id": "FAa7IEu2yKBH",
    "outputId": "80526a7d-bb2d-4ec6-aa55-499ed903fe60"
   },
   "outputs": [],
   "source": [
    "# !ls \"/content/gdrive/My Drive/ml-100k\""
   ]
  },
  {
   "cell_type": "markdown",
   "metadata": {
    "id": "T08LLSrozBj8"
   },
   "source": [
    "### 모듈 불러오기"
   ]
  },
  {
   "cell_type": "code",
   "execution_count": 1,
   "metadata": {
    "id": "WBt-r6_-yScc"
   },
   "outputs": [],
   "source": [
    "import torch\n",
    "import pandas as pd\n",
    "import torch.nn.functional as F\n",
    "import matplotlib.pyplot as plt"
   ]
  },
  {
   "cell_type": "markdown",
   "metadata": {
    "id": "IO4zg0VYzJax"
   },
   "source": [
    "### 파일 불러오기"
   ]
  },
  {
   "cell_type": "code",
   "execution_count": 3,
   "metadata": {
    "id": "oi5zQ01Iy2_l"
   },
   "outputs": [],
   "source": [
    "train = pd.read_csv(\"/content/gdrive/My Drive/ml-100k/ua.base\",\n",
    " sep=\"\\t\", names=['user', 'movie', 'rating', 'timestamp'])\n",
    "test = pd.read_csv(\"/content/gdrive/My Drive/ml-100k/ua.test\",\n",
    " sep=\"\\t\", names=['user', 'movie', 'rating', 'timestamp'])"
   ]
  },
  {
   "cell_type": "code",
   "execution_count": null,
   "metadata": {
    "id": "miVpwNBXzHcS"
   },
   "outputs": [],
   "source": [
    "# pytorchtensor데이터로변환\n",
    "items = torch.LongTensor(train['movie'])\n",
    "users = torch.LongTensor(train['user'])\n",
    "ratings = torch.FloatTensor(train['rating'])\n",
    "items_test = torch.LongTensor(test['movie'])\n",
    "users_test = torch.LongTensor(test['user'])\n",
    "ratings_test = torch.FloatTensor(test['rating'])"
   ]
  },
  {
   "cell_type": "code",
   "execution_count": null,
   "metadata": {
    "id": "CRBnmlBwzRLj"
   },
   "outputs": [],
   "source": [
    "rank = 10\n",
    "numItems = items.max() + 1\n",
    "numUsers = users.max() + 1\n",
    "P = torch.randn(numItems, rank, requires_grad=True)\n",
    "Q = torch.randn(numUsers, rank, requires_grad=True)"
   ]
  },
  {
   "cell_type": "markdown",
   "metadata": {
    "id": "7yB8OmVB4A4G"
   },
   "source": [
    "## 기본MatrixFactorization구현"
   ]
  },
  {
   "cell_type": "code",
   "execution_count": 7,
   "metadata": {
    "colab": {
     "base_uri": "https://localhost:8080/"
    },
    "id": "zWFUf74O0MgN",
    "outputId": "43c5b323-e3da-4802-d564-a35217de6cab"
   },
   "outputs": [
    {
     "name": "stdout",
     "output_type": "stream",
     "text": [
      "epoch: 0, cost: 24.274586\n",
      "epoch: 100, cost: 0.567519\n",
      "epoch: 200, cost: 0.493986\n",
      "epoch: 300, cost: 0.471319\n",
      "epoch: 400, cost: 0.461005\n",
      "epoch: 500, cost: 0.455251\n",
      "epoch: 600, cost: 0.451740\n",
      "epoch: 700, cost: 0.449356\n",
      "epoch: 800, cost: 0.447628\n",
      "epoch: 900, cost: 0.446301\n"
     ]
    }
   ],
   "source": [
    "optimizer = torch.optim.Adam([P, Q], lr= 0.1)\n",
    "\n",
    "X = []\n",
    "Y = []\n",
    "Y_test = []\n",
    "\n",
    "for epoch in range(1000):\n",
    "  hypothesis = torch. sum(P[items] * Q[users], dim= 1)\n",
    "  cost = F.mse_loss(hypothesis ,ratings)\n",
    "  \n",
    "  optimizer.zero_grad()\n",
    "  cost.backward()\n",
    "  optimizer.step()\n",
    "  \n",
    "  X.append(epoch)\n",
    "  Y.append(cost)\n",
    "  with torch.no_grad():\n",
    "    hypo_test = torch.sum(P[items_test] * Q[users_test], dim=1)\n",
    "    cost_test = F.mse_loss(hypo_test, ratings_test)\n",
    "    Y_test.append(cost_test)\n",
    "\n",
    "  if epoch % 100 == 0:\n",
    "    print(\"epoch: {}, cost: {:.6f}\" .format(epoch, cost.item()))"
   ]
  },
  {
   "cell_type": "code",
   "execution_count": 8,
   "metadata": {
    "colab": {
     "base_uri": "https://localhost:8080/",
     "height": 279
    },
    "id": "sO2GDfcz1WRp",
    "outputId": "0936f3a9-b0ac-4b10-ee99-af324bd0cd84"
   },
   "outputs": [
    {
     "data": {
      "image/png": "[encoded data removed]",
      "text/plain": [
       "<Figure size 432x288 with 1 Axes>"
      ]
     },
     "metadata": {
      "needs_background": "light"
     },
     "output_type": "display_data"
    }
   ],
   "source": [
    "# Matplotlib으로epoch마다TrainingMSE그려보기\n",
    "plt.ylabel(\"MSE\")\n",
    "plt.xlabel(\"Epoch\")\n",
    "plt.plot(X,Y, c=\"blue\", label=\"Training MSE\")\n",
    "plt.plot(X,Y_test, c=\"red\", label=\"Test MSE\")\n",
    "plt.legend()\n",
    "plt.show()"
   ]
  },
  {
   "cell_type": "markdown",
   "metadata": {
    "id": "0nw-We_N37W-"
   },
   "source": [
    "## Regularization추가하기"
   ]
  },
  {
   "cell_type": "code",
   "execution_count": 13,
   "metadata": {
    "colab": {
     "base_uri": "https://localhost:8080/"
    },
    "id": "EZGYGnnH1WyV",
    "outputId": "c1586641-0e0f-4725-bea5-8455703cf332"
   },
   "outputs": [
    {
     "name": "stdout",
     "output_type": "stream",
     "text": [
      "epoch: 0, cost: 12.655086\n",
      "epoch: 100, cost: 0.629982\n",
      "epoch: 200, cost: 0.627711\n",
      "epoch: 300, cost: 0.627305\n",
      "epoch: 400, cost: 0.626975\n",
      "epoch: 500, cost: 0.626581\n",
      "epoch: 600, cost: 0.626309\n",
      "epoch: 700, cost: 0.626178\n",
      "epoch: 800, cost: 0.626082\n",
      "epoch: 900, cost: 0.626008\n"
     ]
    }
   ],
   "source": [
    "lambda1 = 0.0001\n",
    "lambda2 = 0.0001\n",
    "\n",
    "#그래프 그려보기 위해 저장\n",
    "X = []\n",
    "Y = []\n",
    "Y_test = []\n",
    "\n",
    "for epoch in range(1000):\n",
    "  hypothesis = torch.sum(P[items] * Q[users], dim=1)\n",
    "  cost = F.mse_loss(hypothesis ,ratings)\n",
    "  loss = cost + lambda1 * torch.sum(P ** 2) + lambda2 * torch.sum(Q ** 2)\n",
    "\n",
    "  optimizer.zero_grad()\n",
    "  loss.backward()\n",
    "  optimizer.step()\n",
    "\n",
    "  X.append(epoch)\n",
    "  Y.append(cost)\n",
    "  with torch.no_grad():\n",
    "    hypo_test = torch.sum(P[items_test] * Q[users_test], dim=1)\n",
    "    cost_test = F.mse_loss(hypo_test, ratings_test)\n",
    "    Y_test.append(cost_test)\n",
    "\n",
    "  if epoch % 100 == 0:\n",
    "    print(\"epoch: {}, cost: {:.6f}\" .format(epoch, cost.item()))"
   ]
  },
  {
   "cell_type": "code",
   "execution_count": 14,
   "metadata": {
    "colab": {
     "base_uri": "https://localhost:8080/",
     "height": 279
    },
    "id": "ox4fsjBQ3tlp",
    "outputId": "1c4c59ed-28a6-4700-e961-d4fdd56faef4"
   },
   "outputs": [
    {
     "data": {
      "image/png": "[encoded data removed]",
      "text/plain": [
       "<Figure size 432x288 with 1 Axes>"
      ]
     },
     "metadata": {
      "needs_background": "light"
     },
     "output_type": "display_data"
    }
   ],
   "source": [
    "# Matplotlib으로epoch마다TrainingMSE그려보기\n",
    "plt.ylabel(\"MSE\")\n",
    "plt.xlabel(\"Epoch\")\n",
    "plt.plot(X,Y, c=\"blue\", label=\"Training MSE\")\n",
    "plt.plot(X,Y_test, c=\"red\", label=\"Test MSE\")\n",
    "plt.legend()\n",
    "plt.show()"
   ]
  },
  {
   "cell_type": "markdown",
   "metadata": {
    "id": "rJxn_YoB34Fo"
   },
   "source": [
    "## Bias 추가하기"
   ]
  },
  {
   "cell_type": "code",
   "execution_count": 11,
   "metadata": {
    "colab": {
     "base_uri": "https://localhost:8080/"
    },
    "id": "qcFEx1A_3emH",
    "outputId": "71d7f4a2-99b4-41fd-aef5-1473f212a991"
   },
   "outputs": [
    {
     "name": "stdout",
     "output_type": "stream",
     "text": [
      "epoch: 0, cost: 14.101965\n",
      "epoch: 100, cost: 0.620125\n",
      "epoch: 200, cost: 0.607773\n",
      "epoch: 300, cost: 0.604133\n",
      "epoch: 400, cost: 0.603333\n",
      "epoch: 500, cost: 0.603060\n",
      "epoch: 600, cost: 0.602892\n",
      "epoch: 700, cost: 0.602748\n",
      "epoch: 800, cost: 0.602603\n",
      "epoch: 900, cost: 0.602462\n"
     ]
    }
   ],
   "source": [
    "# Regularization추가하기\n",
    "lambda1 = 0.0001\n",
    "lambda2 = 0.0001\n",
    "lambda3 = 0.001\n",
    "lambda4 = 0.001\n",
    "\n",
    "# bias 추가\n",
    "bias_item = torch.randn(numItems, requires_grad=True)\n",
    "bias_user = torch.randn(numUsers, requires_grad=True)\n",
    "mean = (ratings.sum() / len(ratings)).item()\n",
    "\n",
    "optimizer = torch.optim.Adam([P, Q, bias_item, bias_user], lr=0.1)\n",
    "\n",
    "#그래프 그려보기 위해 저장\n",
    "X = []\n",
    "Y = []\n",
    "Y_test = []\n",
    "\n",
    "for epoch in range(1000):\n",
    "  hypothesis = torch.sum(P[items] * Q[users], dim=1) + mean + bias_item[items] + bias_user[users]\n",
    "  cost = F.mse_loss(hypothesis ,ratings)\n",
    "  loss = cost + lambda1 * torch.sum(P ** 2) + lambda2 * torch.sum(Q ** 2) + lambda3 * torch.sum(bias_item ** 2) + lambda4 * torch.sum(bias_user ** 2)\n",
    "  \n",
    "  optimizer.zero_grad()\n",
    "  loss.backward()\n",
    "  optimizer.step()\n",
    "\n",
    "  X.append(epoch)\n",
    "  Y.append(cost)\n",
    "  with torch.no_grad():\n",
    "    hypo_test = torch.sum(P[items_test] * Q[users_test], dim=1) + mean + bias_item[items_test] + bias_user[users_test]\n",
    "    cost_test = F.mse_loss(hypo_test, ratings_test)\n",
    "    Y_test.append(cost_test)\n",
    "\n",
    "  if epoch % 100 == 0:\n",
    "    print(\"epoch: {}, cost: {:.6f}\" .format(epoch, cost.item()))"
   ]
  },
  {
   "cell_type": "code",
   "execution_count": 12,
   "metadata": {
    "colab": {
     "base_uri": "https://localhost:8080/",
     "height": 279
    },
    "id": "nv9K94Ax1W3S",
    "outputId": "20342dfc-ddf4-48f8-edb2-e0c742c8ab1c"
   },
   "outputs": [
    {
     "data": {
      "image/png": "[encoded data removed]",
      "text/plain": [
       "<Figure size 432x288 with 1 Axes>"
      ]
     },
     "metadata": {
      "needs_background": "light"
     },
     "output_type": "display_data"
    }
   ],
   "source": [
    "# Matplotlib으로epoch마다TrainingMSE그려보기\n",
    "plt.ylabel(\"MSE\")\n",
    "plt.xlabel(\"Epoch\")\n",
    "plt.plot(X,Y, c=\"blue\", label=\"Training MSE\")\n",
    "plt.plot(X,Y_test, c=\"red\", label=\"Test MSE\")\n",
    "plt.legend()\n",
    "plt.show()"
   ]
  }
 ],
 "metadata": {
  "colab": {
   "name": "백찬진_20172834_과제5",
   "provenance": []
  },
  "kernelspec": {
   "display_name": "DL",
   "language": "python",
   "name": "dl"
  },
  "language_info": {
   "codemirror_mode": {
    "name": "ipython",
    "version": 3
   },
   "file_extension": ".py",
   "mimetype": "text/x-python",
   "name": "python",
   "nbconvert_exporter": "python",
   "pygments_lexer": "ipython3",
   "version": "3.8.11"
  }
 },
 "nbformat": 4,
 "nbformat_minor": 1
}
