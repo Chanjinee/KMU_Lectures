{
 "cells": [
  {
   "cell_type": "markdown",
   "metadata": {},
   "source": [
    "# L08.1: Similarity Practice"
   ]
  },
  {
   "cell_type": "markdown",
   "metadata": {},
   "source": [
    "    -본 실습 코드는 kaggle을 통해서 진행해야함"
   ]
  },
  {
   "cell_type": "code",
   "execution_count": 19,
   "metadata": {
    "_cell_guid": "b1076dfc-b9ad-4769-8c92-a6c4dae69d19",
    "_uuid": "8f2839f25d086af736a60e9eeb907d3b93b6e0e5",
    "execution": {
     "iopub.execute_input": "2021-10-27T09:57:31.040034Z",
     "iopub.status.busy": "2021-10-27T09:57:31.039738Z",
     "iopub.status.idle": "2021-10-27T09:57:31.050112Z",
     "shell.execute_reply": "2021-10-27T09:57:31.049232Z",
     "shell.execute_reply.started": "2021-10-27T09:57:31.040000Z"
    }
   },
   "outputs": [],
   "source": [
    "# This Python 3 environment comes with many helpful analytics libraries installed\n",
    "# It is defined by the kaggle/python Docker image: https://github.com/kaggle/docker-python\n",
    "# For example, here's several helpful packages to load\n",
    "\n",
    "import numpy as np # linear algebra\n",
    "import pandas as pd # data processing, CSV file I/O (e.g. pd.read_csv)\n",
    "\n",
    "# Input data files are available in the read-only \"../input/\" directory\n",
    "# For example, running this (by clicking run or pressing Shift+Enter) will list all files under the input directory\n",
    "\n",
    "import os\n",
    "for dirname, _, filenames in os.walk('/kaggle/input'):\n",
    "    for filename in filenames:\n",
    "        print(os.path.join(dirname, filename))\n",
    "\n",
    "# You can write up to 20GB to the current directory (/kaggle/working/) that gets preserved as output when you create a version using \"Save & Run All\" \n",
    "# You can also write temporary files to /kaggle/temp/, but they won't be saved outside of the current session"
   ]
  },
  {
   "cell_type": "markdown",
   "metadata": {},
   "source": [
    "## 데이터 불러오기"
   ]
  },
  {
   "cell_type": "code",
   "execution_count": 20,
   "metadata": {
    "execution": {
     "iopub.execute_input": "2021-10-27T09:57:31.052523Z",
     "iopub.status.busy": "2021-10-27T09:57:31.051829Z",
     "iopub.status.idle": "2021-10-27T09:57:32.014945Z",
     "shell.execute_reply": "2021-10-27T09:57:32.014328Z",
     "shell.execute_reply.started": "2021-10-27T09:57:31.052483Z"
    }
   },
   "outputs": [],
   "source": [
    "meta = pd.read_csv( '/kaggle/input/the-movies-dataset/movies_metadata.csv' )\n",
    "keywords = pd.read_csv( '/kaggle/input/the-movies-dataset/keywords.csv' )\n",
    "ratings = pd.read_csv( '/kaggle/input/the-movies-dataset/ratings_small.csv' )\n",
    "display(meta, keywords, ratings)"
   ]
  },
  {
   "cell_type": "markdown",
   "metadata": {},
   "source": [
    "#### meta"
   ]
  },
  {
   "cell_type": "code",
   "execution_count": 21,
   "metadata": {
    "execution": {
     "iopub.execute_input": "2021-10-27T09:57:32.016427Z",
     "iopub.status.busy": "2021-10-27T09:57:32.015890Z",
     "iopub.status.idle": "2021-10-27T09:57:32.093365Z",
     "shell.execute_reply": "2021-10-27T09:57:32.092383Z",
     "shell.execute_reply.started": "2021-10-27T09:57:32.016385Z"
    }
   },
   "outputs": [],
   "source": [
    "meta = meta[ ['id', 'original_title', 'original_language', 'genres'] ] #meta에서 특정컬럼만 불러옴\n",
    "meta = meta.rename(columns={'id':'movieId','original_title': 'title', 'original_language': 'language'}) #컬럼 이름 변경\n",
    "meta = meta.loc[meta['language'] == 'en',:]#lamguage가 en인 행만 추출\n",
    "meta.movieId = pd.to_numeric(meta.movieId) #movieid를 영어로 변경\n",
    "meta.movieId"
   ]
  },
  {
   "cell_type": "code",
   "execution_count": 22,
   "metadata": {
    "execution": {
     "iopub.execute_input": "2021-10-27T09:57:32.096360Z",
     "iopub.status.busy": "2021-10-27T09:57:32.096032Z",
     "iopub.status.idle": "2021-10-27T09:57:32.101299Z",
     "shell.execute_reply": "2021-10-27T09:57:32.100318Z",
     "shell.execute_reply.started": "2021-10-27T09:57:32.096319Z"
    }
   },
   "outputs": [],
   "source": [
    "#json srt을 set로 변경\n",
    "def str_to_set(x):\n",
    "    genre_set = set()\n",
    "    for item in eval(x):\n",
    "        genre_set.add(item['name'])\n",
    "    return genre_set"
   ]
  },
  {
   "cell_type": "code",
   "execution_count": 23,
   "metadata": {
    "execution": {
     "iopub.execute_input": "2021-10-27T09:57:32.102971Z",
     "iopub.status.busy": "2021-10-27T09:57:32.102654Z",
     "iopub.status.idle": "2021-10-27T09:57:32.991166Z",
     "shell.execute_reply": "2021-10-27T09:57:32.990189Z",
     "shell.execute_reply.started": "2021-10-27T09:57:32.102931Z"
    }
   },
   "outputs": [],
   "source": [
    "#meta의 genres컬럼에 함수를 적용\n",
    "meta.genres = meta.genres.apply(str_to_set);meta"
   ]
  },
  {
   "cell_type": "markdown",
   "metadata": {},
   "source": [
    "#### keywords"
   ]
  },
  {
   "cell_type": "code",
   "execution_count": 24,
   "metadata": {
    "execution": {
     "iopub.execute_input": "2021-10-27T09:57:32.993083Z",
     "iopub.status.busy": "2021-10-27T09:57:32.992437Z",
     "iopub.status.idle": "2021-10-27T09:57:33.002879Z",
     "shell.execute_reply": "2021-10-27T09:57:33.002318Z",
     "shell.execute_reply.started": "2021-10-27T09:57:32.992997Z"
    }
   },
   "outputs": [],
   "source": [
    "keywords"
   ]
  },
  {
   "cell_type": "code",
   "execution_count": 25,
   "metadata": {
    "execution": {
     "iopub.execute_input": "2021-10-27T09:57:33.003996Z",
     "iopub.status.busy": "2021-10-27T09:57:33.003772Z",
     "iopub.status.idle": "2021-10-27T09:57:34.460947Z",
     "shell.execute_reply": "2021-10-27T09:57:34.460119Z",
     "shell.execute_reply.started": "2021-10-27T09:57:33.003960Z"
    }
   },
   "outputs": [],
   "source": [
    "#위에서 정의한 srt_ot_set함수 동일하게 적용\n",
    "keywords.keywords = keywords.keywords.apply(str_to_set);keywords"
   ]
  },
  {
   "cell_type": "code",
   "execution_count": 26,
   "metadata": {
    "execution": {
     "iopub.execute_input": "2021-10-27T09:57:34.462418Z",
     "iopub.status.busy": "2021-10-27T09:57:34.462101Z",
     "iopub.status.idle": "2021-10-27T09:57:34.479769Z",
     "shell.execute_reply": "2021-10-27T09:57:34.478931Z",
     "shell.execute_reply.started": "2021-10-27T09:57:34.462377Z"
    }
   },
   "outputs": [],
   "source": [
    "keywords = keywords.rename(columns={'id': 'movieId'}) #컬럼이름 변경\n",
    "keywords.movieId = pd.to_numeric(keywords.movieId);keywords #숫자로 타입변경"
   ]
  },
  {
   "cell_type": "markdown",
   "metadata": {},
   "source": [
    "#### meta, keywords 병합"
   ]
  },
  {
   "cell_type": "code",
   "execution_count": 27,
   "metadata": {
    "execution": {
     "iopub.execute_input": "2021-10-27T09:57:34.481424Z",
     "iopub.status.busy": "2021-10-27T09:57:34.481166Z",
     "iopub.status.idle": "2021-10-27T09:57:34.523149Z",
     "shell.execute_reply": "2021-10-27T09:57:34.522543Z",
     "shell.execute_reply.started": "2021-10-27T09:57:34.481395Z"
    }
   },
   "outputs": [],
   "source": [
    "#meta, keywords를 meta에 병합\n",
    "meta = pd.merge(meta, keywords, on='movieId', how='inner');meta"
   ]
  },
  {
   "cell_type": "code",
   "execution_count": 28,
   "metadata": {
    "execution": {
     "iopub.execute_input": "2021-10-27T09:57:34.525281Z",
     "iopub.status.busy": "2021-10-27T09:57:34.524914Z",
     "iopub.status.idle": "2021-10-27T09:57:34.559442Z",
     "shell.execute_reply": "2021-10-27T09:57:34.558649Z",
     "shell.execute_reply.started": "2021-10-27T09:57:34.525236Z"
    }
   },
   "outputs": [],
   "source": [
    "dk = meta.loc[meta.title == 'The Dark Knight'].iloc[0] #다크나이트 영화중 첫번째 나오는 것을 dk로 지정\n",
    "dkr = meta.loc[meta.title == 'The Dark Knight Rises'].iloc[0] #위와 동일\n",
    "pd.concat([dk, dkr], axis=1).T #병합 axis=1 -> 열방향르오 작동"
   ]
  },
  {
   "cell_type": "code",
   "execution_count": 29,
   "metadata": {
    "execution": {
     "iopub.execute_input": "2021-10-27T09:57:34.560745Z",
     "iopub.status.busy": "2021-10-27T09:57:34.560468Z",
     "iopub.status.idle": "2021-10-27T09:57:34.565403Z",
     "shell.execute_reply": "2021-10-27T09:57:34.564562Z",
     "shell.execute_reply.started": "2021-10-27T09:57:34.560715Z"
    }
   },
   "outputs": [],
   "source": [
    "#자카드 유사도를 구하는 함수를 생성\n",
    "def jaccard_similarity(s1, s2):\n",
    "    if len(s1|s2) == 0:\n",
    "        return 0\n",
    "    return len(s1&s2)/len(s1|s2)"
   ]
  },
  {
   "cell_type": "code",
   "execution_count": 30,
   "metadata": {
    "execution": {
     "iopub.execute_input": "2021-10-27T09:57:34.566683Z",
     "iopub.status.busy": "2021-10-27T09:57:34.566462Z",
     "iopub.status.idle": "2021-10-27T09:57:34.580267Z",
     "shell.execute_reply": "2021-10-27T09:57:34.579402Z",
     "shell.execute_reply.started": "2021-10-27T09:57:34.566657Z"
    }
   },
   "outputs": [],
   "source": [
    "#dk와 dkr의 자카드 유사도를 구함\n",
    "jaccard_similarity(dk.genres|dk.keywords, dkr.genres|dkr.keywords)"
   ]
  },
  {
   "cell_type": "markdown",
   "metadata": {},
   "source": [
    "#### ratings"
   ]
  },
  {
   "cell_type": "code",
   "execution_count": 31,
   "metadata": {
    "execution": {
     "iopub.execute_input": "2021-10-27T09:57:34.581843Z",
     "iopub.status.busy": "2021-10-27T09:57:34.581533Z",
     "iopub.status.idle": "2021-10-27T09:57:34.599188Z",
     "shell.execute_reply": "2021-10-27T09:57:34.598393Z",
     "shell.execute_reply.started": "2021-10-27T09:57:34.581800Z"
    }
   },
   "outputs": [],
   "source": [
    "ratings"
   ]
  },
  {
   "cell_type": "code",
   "execution_count": 32,
   "metadata": {
    "execution": {
     "iopub.execute_input": "2021-10-27T09:57:34.601200Z",
     "iopub.status.busy": "2021-10-27T09:57:34.600525Z",
     "iopub.status.idle": "2021-10-27T09:57:34.606720Z",
     "shell.execute_reply": "2021-10-27T09:57:34.605945Z",
     "shell.execute_reply.started": "2021-10-27T09:57:34.601154Z"
    }
   },
   "outputs": [],
   "source": [
    "ratings.movieId = pd.to_numeric(ratings.movieId)"
   ]
  },
  {
   "cell_type": "code",
   "execution_count": 36,
   "metadata": {
    "execution": {
     "iopub.execute_input": "2021-10-27T09:59:05.718975Z",
     "iopub.status.busy": "2021-10-27T09:59:05.718106Z",
     "iopub.status.idle": "2021-10-27T09:59:05.736030Z",
     "shell.execute_reply": "2021-10-27T09:59:05.735103Z",
     "shell.execute_reply.started": "2021-10-27T09:59:05.718935Z"
    }
   },
   "outputs": [],
   "source": [
    "#ratings와 meta의 특정 컬럼을 병합\n",
    "ratings = pd.merge(ratings, meta[['movieId', 'title']], on='movieId', how='inner')"
   ]
  },
  {
   "cell_type": "code",
   "execution_count": 37,
   "metadata": {
    "execution": {
     "iopub.execute_input": "2021-10-27T09:59:06.706565Z",
     "iopub.status.busy": "2021-10-27T09:59:06.706276Z",
     "iopub.status.idle": "2021-10-27T09:59:06.817489Z",
     "shell.execute_reply": "2021-10-27T09:59:06.816568Z",
     "shell.execute_reply.started": "2021-10-27T09:59:06.706534Z"
    }
   },
   "outputs": [],
   "source": [
    "#피벗테이블을 matrix라는 이름으로 지정\n",
    "matrix = ratings.pivot_table(index= 'userId', columns='title', values='rating');matrix"
   ]
  },
  {
   "cell_type": "code",
   "execution_count": 38,
   "metadata": {
    "execution": {
     "iopub.execute_input": "2021-10-27T10:01:20.659851Z",
     "iopub.status.busy": "2021-10-27T10:01:20.659338Z",
     "iopub.status.idle": "2021-10-27T10:01:20.665503Z",
     "shell.execute_reply": "2021-10-27T10:01:20.664770Z",
     "shell.execute_reply.started": "2021-10-27T10:01:20.659819Z"
    }
   },
   "outputs": [],
   "source": [
    "#피어슨 상관계수 구하는 코드 작성\n",
    "def pearson_similarity(u1, u2):\n",
    "    u1_c = u1 - u1.mean()\n",
    "    u2_c = u2 - u2.mean()\n",
    "    denom = np.sqrt(np.sum(u1_c ** 2) * np.sum(u2_c ** 2))\n",
    "    if denom != 0:\n",
    "        return np.sum(u1_c * u2_c)/denom\n",
    "    else:\n",
    "        return 0"
   ]
  },
  {
   "cell_type": "code",
   "execution_count": 39,
   "metadata": {
    "execution": {
     "iopub.execute_input": "2021-10-27T10:03:55.215950Z",
     "iopub.status.busy": "2021-10-27T10:03:55.215582Z",
     "iopub.status.idle": "2021-10-27T10:03:55.227808Z",
     "shell.execute_reply": "2021-10-27T10:03:55.226822Z",
     "shell.execute_reply.started": "2021-10-27T10:03:55.215909Z"
    }
   },
   "outputs": [],
   "source": [
    "#피어슨 상관계를 구함\n",
    "dk_rating = matrix['The Dark Knight']\n",
    "pk_rating = matrix['Prom Night']\n",
    "pearson_similarity(dk_rating, pk_rating)"
   ]
  },
  {
   "cell_type": "code",
   "execution_count": 40,
   "metadata": {
    "execution": {
     "iopub.execute_input": "2021-10-27T10:12:24.063860Z",
     "iopub.status.busy": "2021-10-27T10:12:24.062955Z",
     "iopub.status.idle": "2021-10-27T10:12:24.073451Z",
     "shell.execute_reply": "2021-10-27T10:12:24.072408Z",
     "shell.execute_reply.started": "2021-10-27T10:12:24.063799Z"
    }
   },
   "outputs": [],
   "source": [
    "#비슷한 영화를 찾아주는 코드를 작성\n",
    "def find_similar_movies (input_title , matrix, n, alpha):\n",
    "    input_meta = meta.loc[ meta[ 'title'] == input_title].iloc[ 0]\n",
    "    input_set = input_meta.genres | input_meta.keywords\n",
    "\n",
    "    result = []\n",
    "\n",
    "    for this_title in matrix.columns:\n",
    "        if this_title == input_title:\n",
    "            continue\n",
    "        this_meta = meta.loc[ meta[ 'title'] == this_title].iloc[ 0]\n",
    "        this_set = this_meta.genres | this_meta.keywords\n",
    "\n",
    "        pearson = pearson_similarity(matrix[this_title], matrix[input_title])\n",
    "        jaccard = jaccard_similarity(this_set, input_set)\n",
    "\n",
    "        score = alpha * pearson + ( 1-alpha) * jaccard\n",
    "        result.append( (this_title, pearson, jaccard, score) )\n",
    "\n",
    "    result.sort(key= lambda r: r[3], reverse= True)\n",
    "\n",
    "    return result[:n]"
   ]
  },
  {
   "cell_type": "code",
   "execution_count": 42,
   "metadata": {
    "execution": {
     "iopub.execute_input": "2021-10-27T10:12:43.607845Z",
     "iopub.status.busy": "2021-10-27T10:12:43.607049Z",
     "iopub.status.idle": "2021-10-27T10:12:57.911399Z",
     "shell.execute_reply": "2021-10-27T10:12:57.910408Z",
     "shell.execute_reply.started": "2021-10-27T10:12:43.607769Z"
    }
   },
   "outputs": [],
   "source": [
    "result = find_similar_movies('The Dark Knight', matrix, 10, 0.3)\n",
    "pd.DataFrame(result, columns = ['title', 'pearson', 'jaccard', 'score'])"
   ]
  },
  {
   "cell_type": "markdown",
   "metadata": {},
   "source": [
    "# END"
   ]
  }
 ],
 "metadata": {
  "kernelspec": {
   "display_name": "Python 3",
   "language": "python",
   "name": "python3"
  },
  "language_info": {
   "codemirror_mode": {
    "name": "ipython",
    "version": 3
   },
   "file_extension": ".py",
   "mimetype": "text/x-python",
   "name": "python",
   "nbconvert_exporter": "python",
   "pygments_lexer": "ipython3",
   "version": "3.8.8"
  }
 },
 "nbformat": 4,
 "nbformat_minor": 4
}
