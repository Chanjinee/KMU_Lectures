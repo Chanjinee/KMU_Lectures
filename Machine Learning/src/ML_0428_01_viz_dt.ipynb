{
 "cells": [
  {
   "cell_type": "markdown",
   "metadata": {},
   "source": [
    "<font color=\"#CC3D3D\"><p>\n",
    "## Decision Tree Visualization"
   ]
  },
  {
   "cell_type": "markdown",
   "metadata": {},
   "source": [
    "이번 실습을 위해 아래와 같이 필요한 SW(graphviz.exe) 및 패키지(graphviz, dtreeviz)를 설치해야 합니다.\n",
    "1. graphviz-2.38.msi 다운로드\n",
    "2. graphviz-2.38.msi을 실행시켜 graphviz 설치\n",
    "3. 설치 후, 아래와 같이 Path 환경변수를 수정\n",
    "  - 바탕화면에서 컴퓨터 아이콘을 마우스 오른쪽 단추로 클릭한 후 속성 선택\n",
    "  - 고급 시스템 설정을 선택한 후 환경변수 버튼을 클릭\n",
    "  - 시스템 변수 섹션에서 Path 환경 변수를 찾아 선택한 후 편집을 클릭\n",
    "  - 새로 만들기 버튼을 눌러 입력란이 나타나면, 정확하게 `C:\\Program Files (x86)\\Graphviz2.38\\bin`을 입력 후 확인 클릭\n",
    "4. Anaconda Prompt에서 `pip install graphviz, dtreeviz` 실행"
   ]
  },
  {
   "cell_type": "code",
   "execution_count": null,
   "metadata": {},
   "outputs": [],
   "source": [
    "import pandas as pd\n",
    "import matplotlib.pylab as plt\n",
    "%matplotlib inline\n",
    "import seaborn as sns\n",
    "import warnings\n",
    "warnings.filterwarnings(\"ignore\")\n",
    "from matplotlib import font_manager, rc\n",
    "import platform\n",
    "from sklearn.tree import DecisionTreeClassifier\n",
    "from sklearn.model_selection import train_test_split\n",
    "from dtreeviz.trees import *"
   ]
  },
  {
   "cell_type": "markdown",
   "metadata": {},
   "source": [
    "#### Reading data"
   ]
  },
  {
   "cell_type": "code",
   "execution_count": null,
   "metadata": {},
   "outputs": [],
   "source": [
    "data = pd.read_csv('purchase_history.csv', encoding='cp949')\n",
    "data"
   ]
  },
  {
   "cell_type": "markdown",
   "metadata": {},
   "source": [
    "#### Feature engineering"
   ]
  },
  {
   "cell_type": "code",
   "execution_count": null,
   "metadata": {},
   "outputs": [],
   "source": [
    "data = data.fillna(0)\n",
    "data = pd.get_dummies(data)\n",
    "\n",
    "X = data.drop(['custid', 'gender'], axis=1)\n",
    "y = data.gender\n",
    "\n",
    "X"
   ]
  },
  {
   "cell_type": "markdown",
   "metadata": {},
   "source": [
    "#### Data splitting"
   ]
  },
  {
   "cell_type": "code",
   "execution_count": null,
   "metadata": {},
   "outputs": [],
   "source": [
    "X_train, X_test, y_train, y_test = train_test_split(X, y, random_state=123)"
   ]
  },
  {
   "cell_type": "markdown",
   "metadata": {},
   "source": [
    "#### Modeing"
   ]
  },
  {
   "cell_type": "code",
   "execution_count": null,
   "metadata": {},
   "outputs": [],
   "source": [
    "clf = DecisionTreeClassifier(max_depth=3, random_state=123)\n",
    "clf.fit(X_train, y_train).score(X_test, y_test)"
   ]
  },
  {
   "cell_type": "markdown",
   "metadata": {},
   "source": [
    "#### Evaluation"
   ]
  },
  {
   "cell_type": "code",
   "execution_count": null,
   "metadata": {},
   "outputs": [],
   "source": [
    "x = range(1,10)\n",
    "y1 = [DecisionTreeClassifier(max_depth=i, random_state=123).fit(X_train, y_train).score(X_train, y_train) for i in x]\n",
    "y2 = [DecisionTreeClassifier(max_depth=i, random_state=123).fit(X_train, y_train).score(X_test, y_test) for i in x]\n",
    "plt.plot(x,y1,label='train')\n",
    "plt.plot(x,y2,label='test')\n",
    "plt.xlabel('depth of tree')\n",
    "plt.ylabel('accuracy')\n",
    "plt.legend()\n",
    "plt.show()"
   ]
  },
  {
   "cell_type": "markdown",
   "metadata": {},
   "source": [
    "#### Check feature importance"
   ]
  },
  {
   "cell_type": "code",
   "execution_count": null,
   "metadata": {},
   "outputs": [],
   "source": [
    "# 차트에서 한글 출력을 위한 설정\n",
    "your_os = platform.system()\n",
    "if your_os == 'Linux':\n",
    "    rc('font', family='NanumGothic')\n",
    "elif your_os == 'Windows':\n",
    "    ttf = \"c:/Windows/Fonts/malgun.ttf\"\n",
    "    font_name = font_manager.FontProperties(fname=ttf).get_name()\n",
    "    rc('font', family=font_name)\n",
    "elif your_os == 'Darwin':\n",
    "    rc('font', family='AppleGothic')\n",
    "rc('axes', unicode_minus=False)"
   ]
  },
  {
   "cell_type": "code",
   "execution_count": null,
   "metadata": {},
   "outputs": [],
   "source": [
    "plt.figure(figsize=(10,15))\n",
    "sns.barplot(x=clf.feature_importances_, y=data.columns[2:])"
   ]
  },
  {
   "cell_type": "markdown",
   "metadata": {},
   "source": [
    "#### Visualize decision tree using [graphviz](http://scikit-learn.org/stable/modules/tree.html)"
   ]
  },
  {
   "cell_type": "code",
   "execution_count": null,
   "metadata": {},
   "outputs": [],
   "source": [
    "from sklearn.tree import export_graphviz\n",
    "import graphviz\n",
    "\n",
    "export_graphviz(clf, out_file=\"tree.dot\",\n",
    "                feature_names=X_train.columns,\n",
    "                class_names=['여자','남자'],\n",
    "                filled=True, rounded=True,\n",
    "                special_characters=True)  \n",
    "\n",
    "with open(\"tree.dot\", encoding='utf-8') as f:  # 한글 처리\n",
    "    dot_graph = f.read()\n",
    "    dot = graphviz.Source(dot_graph)\n",
    "    dot.format = 'png'\n",
    "    dot.render(filename='tree', cleanup=True)\n",
    "    \n",
    "dot"
   ]
  },
  {
   "cell_type": "markdown",
   "metadata": {},
   "source": [
    "### Visualize decision tree using [dtreeviz](https://github.com/parrt/dtreeviz)"
   ]
  },
  {
   "cell_type": "code",
   "execution_count": null,
   "metadata": {},
   "outputs": [],
   "source": [
    "from sklearn.datasets import load_iris"
   ]
  },
  {
   "cell_type": "code",
   "execution_count": null,
   "metadata": {},
   "outputs": [],
   "source": [
    "classifier = tree.DecisionTreeClassifier(max_depth=2, random_state=0) \n",
    "iris = load_iris()\n",
    "classifier.fit(iris.data, iris.target)"
   ]
  },
  {
   "cell_type": "code",
   "execution_count": null,
   "metadata": {
    "scrolled": true
   },
   "outputs": [],
   "source": [
    "viz = dtreeviz(classifier, \n",
    "               iris.data, \n",
    "               iris.target,\n",
    "               target_name='variety',\n",
    "               feature_names=iris.feature_names, \n",
    "               class_names=[\"setosa\", \"versicolor\", \"virginica\"]  # need class_names for classifier\n",
    "              )  \n",
    "              \n",
    "viz"
   ]
  },
  {
   "cell_type": "code",
   "execution_count": null,
   "metadata": {},
   "outputs": [],
   "source": [
    "# Decision tree without scatterplot or histograms for decision nodes\n",
    "\n",
    "viz = dtreeviz(classifier,\n",
    "               iris.data, \n",
    "               iris.target,\n",
    "               target_name='variety',\n",
    "               feature_names=iris.feature_names, \n",
    "               class_names=[\"setosa\", \"versicolor\", \"virginica\"],\n",
    "               fancy=False )  # fance=False to remove histograms/scatterplots from decision nodes\n",
    "              \n",
    "viz"
   ]
  },
  {
   "cell_type": "code",
   "execution_count": null,
   "metadata": {},
   "outputs": [],
   "source": [
    "# Prediction path\n",
    "\n",
    "X = iris.data[np.random.randint(0, len(iris.data)),:]  # random sample from training\n",
    "viz = dtreeviz(classifier,\n",
    "               iris.data, \n",
    "               iris.target,\n",
    "               target_name='variety',\n",
    "               feature_names=iris.feature_names, \n",
    "               class_names=[\"setosa\", \"versicolor\", \"virginica\"],\n",
    "               orientation ='LR',  # left-right orientation\n",
    "               X=X)  # need to give single observation for prediction\n",
    "              \n",
    "viz"
   ]
  },
  {
   "cell_type": "markdown",
   "metadata": {},
   "source": [
    "<font color=\"#CC3D3D\"><p>\n",
    "## End"
   ]
  }
 ],
 "metadata": {
  "kernelspec": {
   "display_name": "Python 3",
   "language": "python",
   "name": "python3"
  },
  "language_info": {
   "codemirror_mode": {
    "name": "ipython",
    "version": 3
   },
   "file_extension": ".py",
   "mimetype": "text/x-python",
   "name": "python",
   "nbconvert_exporter": "python",
   "pygments_lexer": "ipython3",
   "version": "3.7.6"
  }
 },
 "nbformat": 4,
 "nbformat_minor": 4
}
